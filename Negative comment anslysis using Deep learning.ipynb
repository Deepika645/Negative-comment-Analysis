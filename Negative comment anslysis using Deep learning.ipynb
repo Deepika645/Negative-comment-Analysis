{
 "cells": [
  {
   "cell_type": "markdown",
   "metadata": {
    "colab_type": "text",
    "id": "view-in-github"
   },
   "source": [
    "<a href=\"https://colab.research.google.com/github/shaunak09vb/Toxic-Comment-Classifier-using-Deep-Learning/blob/main/NLP_Deep_Learning.ipynb\" target=\"_parent\"><img src=\"https://colab.research.google.com/assets/colab-badge.svg\" alt=\"Open In Colab\"/></a>"
   ]
  },
  {
   "cell_type": "markdown",
   "metadata": {
    "id": "wcGq1dF0iWju"
   },
   "source": [
    "# Importing Libraries"
   ]
  },
  {
   "cell_type": "code",
   "execution_count": 2,
   "metadata": {
    "id": "iyTgJx85_MUt"
   },
   "outputs": [
    {
     "ename": "ModuleNotFoundError",
     "evalue": "No module named 'google.colab'",
     "output_type": "error",
     "traceback": [
      "\u001b[1;31m---------------------------------------------------------------------------\u001b[0m",
      "\u001b[1;31mModuleNotFoundError\u001b[0m                       Traceback (most recent call last)",
      "\u001b[1;32m~\\AppData\\Local\\Temp/ipykernel_4692/1408506528.py\u001b[0m in \u001b[0;36m<module>\u001b[1;34m\u001b[0m\n\u001b[1;32m----> 1\u001b[1;33m \u001b[1;32mfrom\u001b[0m \u001b[0mgoogle\u001b[0m\u001b[1;33m.\u001b[0m\u001b[0mcolab\u001b[0m \u001b[1;32mimport\u001b[0m \u001b[0mdrive\u001b[0m\u001b[1;33m\u001b[0m\u001b[1;33m\u001b[0m\u001b[0m\n\u001b[0m\u001b[0;32m      2\u001b[0m \u001b[0mdrive\u001b[0m\u001b[1;33m.\u001b[0m\u001b[0mmount\u001b[0m\u001b[1;33m(\u001b[0m\u001b[1;34m'/content/drive'\u001b[0m\u001b[1;33m)\u001b[0m\u001b[1;33m\u001b[0m\u001b[1;33m\u001b[0m\u001b[0m\n",
      "\u001b[1;31mModuleNotFoundError\u001b[0m: No module named 'google.colab'"
     ]
    }
   ],
   "source": [
    "from google.colab import drive\n",
    "drive.mount('/content/drive')"
   ]
  },
  {
   "cell_type": "code",
   "execution_count": 3,
   "metadata": {},
   "outputs": [
    {
     "name": "stdout",
     "output_type": "stream",
     "text": [
      "Requirement already satisfied: talos in c:\\users\\deepi\\anaconda3\\lib\\site-packages (1.4)\n",
      "Requirement already satisfied: tensorflow==2.14.1 in c:\\users\\deepi\\anaconda3\\lib\\site-packages (from talos) (2.14.1)\n",
      "Requirement already satisfied: scikit-learn in c:\\users\\deepi\\anaconda3\\lib\\site-packages (from talos) (1.1.3)\n",
      "Requirement already satisfied: chances in c:\\users\\deepi\\anaconda3\\lib\\site-packages (from talos) (0.1.9)\n",
      "Requirement already satisfied: pandas in c:\\users\\deepi\\anaconda3\\lib\\site-packages (from talos) (1.3.4)\n",
      "Requirement already satisfied: kerasplotlib in c:\\users\\deepi\\anaconda3\\lib\\site-packages (from talos) (1.0)\n",
      "Requirement already satisfied: requests in c:\\users\\deepi\\anaconda3\\lib\\site-packages (from talos) (2.26.0)\n",
      "Requirement already satisfied: statsmodels>=0.11.0 in c:\\users\\deepi\\anaconda3\\lib\\site-packages (from talos) (0.12.2)\n",
      "Requirement already satisfied: numpy in c:\\users\\deepi\\anaconda3\\lib\\site-packages (from talos) (1.26.4)\n",
      "Requirement already satisfied: wrangle in c:\\users\\deepi\\anaconda3\\lib\\site-packages (from talos) (0.7.6)\n",
      "Requirement already satisfied: astetik in c:\\users\\deepi\\anaconda3\\lib\\site-packages (from talos) (1.16)\n",
      "Requirement already satisfied: tqdm in c:\\users\\deepi\\anaconda3\\lib\\site-packages (from talos) (4.62.3)\n",
      "Requirement already satisfied: tensorflow-intel==2.14.1 in c:\\users\\deepi\\anaconda3\\lib\\site-packages (from tensorflow==2.14.1->talos) (2.14.1)\n",
      "Requirement already satisfied: flatbuffers>=23.5.26 in c:\\users\\deepi\\anaconda3\\lib\\site-packages (from tensorflow-intel==2.14.1->tensorflow==2.14.1->talos) (24.3.25)\n",
      "Requirement already satisfied: astunparse>=1.6.0 in c:\\users\\deepi\\anaconda3\\lib\\site-packages (from tensorflow-intel==2.14.1->tensorflow==2.14.1->talos) (1.6.3)\n",
      "Requirement already satisfied: h5py>=2.9.0 in c:\\users\\deepi\\anaconda3\\lib\\site-packages (from tensorflow-intel==2.14.1->tensorflow==2.14.1->talos) (3.2.1)\n",
      "Requirement already satisfied: keras<2.15,>=2.14.0 in c:\\users\\deepi\\anaconda3\\lib\\site-packages (from tensorflow-intel==2.14.1->tensorflow==2.14.1->talos) (2.14.0)\n",
      "Requirement already satisfied: setuptools in c:\\users\\deepi\\anaconda3\\lib\\site-packages (from tensorflow-intel==2.14.1->tensorflow==2.14.1->talos) (58.0.4)\n",
      "Requirement already satisfied: wrapt<1.15,>=1.11.0 in c:\\users\\deepi\\anaconda3\\lib\\site-packages (from tensorflow-intel==2.14.1->tensorflow==2.14.1->talos) (1.12.1)\n",
      "Requirement already satisfied: tensorflow-io-gcs-filesystem>=0.23.1 in c:\\users\\deepi\\anaconda3\\lib\\site-packages (from tensorflow-intel==2.14.1->tensorflow==2.14.1->talos) (0.28.0)\n",
      "Requirement already satisfied: packaging in c:\\users\\deepi\\anaconda3\\lib\\site-packages (from tensorflow-intel==2.14.1->tensorflow==2.14.1->talos) (23.2)\n",
      "Requirement already satisfied: absl-py>=1.0.0 in c:\\users\\deepi\\anaconda3\\lib\\site-packages (from tensorflow-intel==2.14.1->tensorflow==2.14.1->talos) (1.3.0)\n",
      "Requirement already satisfied: tensorflow-estimator<2.15,>=2.14.0 in c:\\users\\deepi\\anaconda3\\lib\\site-packages (from tensorflow-intel==2.14.1->tensorflow==2.14.1->talos) (2.14.0)\n",
      "Requirement already satisfied: opt-einsum>=2.3.2 in c:\\users\\deepi\\anaconda3\\lib\\site-packages (from tensorflow-intel==2.14.1->tensorflow==2.14.1->talos) (3.3.0)\n",
      "Requirement already satisfied: grpcio<2.0,>=1.24.3 in c:\\users\\deepi\\anaconda3\\lib\\site-packages (from tensorflow-intel==2.14.1->tensorflow==2.14.1->talos) (1.63.0)\n",
      "Requirement already satisfied: libclang>=13.0.0 in c:\\users\\deepi\\anaconda3\\lib\\site-packages (from tensorflow-intel==2.14.1->tensorflow==2.14.1->talos) (14.0.6)\n",
      "Requirement already satisfied: six>=1.12.0 in c:\\users\\deepi\\anaconda3\\lib\\site-packages (from tensorflow-intel==2.14.1->tensorflow==2.14.1->talos) (1.16.0)\n",
      "Requirement already satisfied: tensorboard<2.15,>=2.14 in c:\\users\\deepi\\anaconda3\\lib\\site-packages (from tensorflow-intel==2.14.1->tensorflow==2.14.1->talos) (2.14.1)\n",
      "Requirement already satisfied: ml-dtypes==0.2.0 in c:\\users\\deepi\\anaconda3\\lib\\site-packages (from tensorflow-intel==2.14.1->tensorflow==2.14.1->talos) (0.2.0)\n",
      "Requirement already satisfied: termcolor>=1.1.0 in c:\\users\\deepi\\anaconda3\\lib\\site-packages (from tensorflow-intel==2.14.1->tensorflow==2.14.1->talos) (2.1.1)\n",
      "Requirement already satisfied: protobuf!=4.21.0,!=4.21.1,!=4.21.2,!=4.21.3,!=4.21.4,!=4.21.5,<5.0.0dev,>=3.20.3 in c:\\users\\deepi\\anaconda3\\lib\\site-packages (from tensorflow-intel==2.14.1->tensorflow==2.14.1->talos) (4.25.3)\n",
      "Requirement already satisfied: typing-extensions>=3.6.6 in c:\\users\\deepi\\anaconda3\\lib\\site-packages (from tensorflow-intel==2.14.1->tensorflow==2.14.1->talos) (4.9.0)\n",
      "Requirement already satisfied: gast!=0.5.0,!=0.5.1,!=0.5.2,>=0.2.1 in c:\\users\\deepi\\anaconda3\\lib\\site-packages (from tensorflow-intel==2.14.1->tensorflow==2.14.1->talos) (0.4.0)\n",
      "Requirement already satisfied: google-pasta>=0.1.1 in c:\\users\\deepi\\anaconda3\\lib\\site-packages (from tensorflow-intel==2.14.1->tensorflow==2.14.1->talos) (0.2.0)\n",
      "Requirement already satisfied: wheel<1.0,>=0.23.0 in c:\\users\\deepi\\anaconda3\\lib\\site-packages (from astunparse>=1.6.0->tensorflow-intel==2.14.1->tensorflow==2.14.1->talos) (0.37.0)\n",
      "Requirement already satisfied: scipy>=1.1 in c:\\users\\deepi\\anaconda3\\lib\\site-packages (from statsmodels>=0.11.0->talos) (1.13.0)\n",
      "Requirement already satisfied: patsy>=0.5 in c:\\users\\deepi\\anaconda3\\lib\\site-packages (from statsmodels>=0.11.0->talos) (0.5.2)\n",
      "Requirement already satisfied: python-dateutil>=2.7.3 in c:\\users\\deepi\\anaconda3\\lib\\site-packages (from pandas->talos) (2.8.2)\n",
      "Requirement already satisfied: pytz>=2017.3 in c:\\users\\deepi\\anaconda3\\lib\\site-packages (from pandas->talos) (2021.3)\n",
      "Requirement already satisfied: markdown>=2.6.8 in c:\\users\\deepi\\anaconda3\\lib\\site-packages (from tensorboard<2.15,>=2.14->tensorflow-intel==2.14.1->tensorflow==2.14.1->talos) (3.4.1)\n",
      "Requirement already satisfied: tensorboard-data-server<0.8.0,>=0.7.0 in c:\\users\\deepi\\anaconda3\\lib\\site-packages (from tensorboard<2.15,>=2.14->tensorflow-intel==2.14.1->tensorflow==2.14.1->talos) (0.7.2)\n",
      "Requirement already satisfied: google-auth-oauthlib<1.1,>=0.5 in c:\\users\\deepi\\anaconda3\\lib\\site-packages (from tensorboard<2.15,>=2.14->tensorflow-intel==2.14.1->tensorflow==2.14.1->talos) (1.0.0)\n",
      "Requirement already satisfied: google-auth<3,>=1.6.3 in c:\\users\\deepi\\anaconda3\\lib\\site-packages (from tensorboard<2.15,>=2.14->tensorflow-intel==2.14.1->tensorflow==2.14.1->talos) (2.29.0)\n",
      "Requirement already satisfied: werkzeug>=1.0.1 in c:\\users\\deepi\\anaconda3\\lib\\site-packages (from tensorboard<2.15,>=2.14->tensorflow-intel==2.14.1->tensorflow==2.14.1->talos) (2.0.2)\n",
      "Requirement already satisfied: pyasn1-modules>=0.2.1 in c:\\users\\deepi\\anaconda3\\lib\\site-packages (from google-auth<3,>=1.6.3->tensorboard<2.15,>=2.14->tensorflow-intel==2.14.1->tensorflow==2.14.1->talos) (0.2.8)\n",
      "Requirement already satisfied: cachetools<6.0,>=2.0.0 in c:\\users\\deepi\\anaconda3\\lib\\site-packages (from google-auth<3,>=1.6.3->tensorboard<2.15,>=2.14->tensorflow-intel==2.14.1->tensorflow==2.14.1->talos) (5.2.0)\n",
      "Requirement already satisfied: rsa<5,>=3.1.4 in c:\\users\\deepi\\anaconda3\\lib\\site-packages (from google-auth<3,>=1.6.3->tensorboard<2.15,>=2.14->tensorflow-intel==2.14.1->tensorflow==2.14.1->talos) (4.9)\n",
      "Requirement already satisfied: requests-oauthlib>=0.7.0 in c:\\users\\deepi\\anaconda3\\lib\\site-packages (from google-auth-oauthlib<1.1,>=0.5->tensorboard<2.15,>=2.14->tensorflow-intel==2.14.1->tensorflow==2.14.1->talos) (1.3.1)\n",
      "Requirement already satisfied: importlib-metadata>=4.4 in c:\\users\\deepi\\anaconda3\\lib\\site-packages (from markdown>=2.6.8->tensorboard<2.15,>=2.14->tensorflow-intel==2.14.1->tensorflow==2.14.1->talos) (4.8.1)\n",
      "Requirement already satisfied: zipp>=0.5 in c:\\users\\deepi\\anaconda3\\lib\\site-packages (from importlib-metadata>=4.4->markdown>=2.6.8->tensorboard<2.15,>=2.14->tensorflow-intel==2.14.1->tensorflow==2.14.1->talos) (3.6.0)\n",
      "Requirement already satisfied: pyasn1<0.5.0,>=0.4.6 in c:\\users\\deepi\\anaconda3\\lib\\site-packages (from pyasn1-modules>=0.2.1->google-auth<3,>=1.6.3->tensorboard<2.15,>=2.14->tensorflow-intel==2.14.1->tensorflow==2.14.1->talos) (0.4.8)\n",
      "Requirement already satisfied: charset-normalizer~=2.0.0 in c:\\users\\deepi\\anaconda3\\lib\\site-packages (from requests->talos) (2.0.4)\n",
      "Requirement already satisfied: idna<4,>=2.5 in c:\\users\\deepi\\anaconda3\\lib\\site-packages (from requests->talos) (2.10)\n",
      "Requirement already satisfied: urllib3<1.27,>=1.21.1 in c:\\users\\deepi\\anaconda3\\lib\\site-packages (from requests->talos) (1.26.7)\n",
      "Requirement already satisfied: certifi>=2017.4.17 in c:\\users\\deepi\\anaconda3\\lib\\site-packages (from requests->talos) (2021.10.8)\n",
      "Requirement already satisfied: oauthlib>=3.0.0 in c:\\users\\deepi\\anaconda3\\lib\\site-packages (from requests-oauthlib>=0.7.0->google-auth-oauthlib<1.1,>=0.5->tensorboard<2.15,>=2.14->tensorflow-intel==2.14.1->tensorflow==2.14.1->talos) (3.2.2)\n",
      "Requirement already satisfied: ipython in c:\\users\\deepi\\anaconda3\\lib\\site-packages (from astetik->talos) (7.29.0)\n",
      "Requirement already satisfied: geonamescache in c:\\users\\deepi\\anaconda3\\lib\\site-packages (from astetik->talos) (2.0.0)\n",
      "Requirement already satisfied: seaborn in c:\\users\\deepi\\anaconda3\\lib\\site-packages (from astetik->talos) (0.11.2)\n",
      "Requirement already satisfied: prompt-toolkit!=3.0.0,!=3.0.1,<3.1.0,>=2.0.0 in c:\\users\\deepi\\anaconda3\\lib\\site-packages (from ipython->astetik->talos) (3.0.20)\n",
      "Requirement already satisfied: colorama in c:\\users\\deepi\\anaconda3\\lib\\site-packages (from ipython->astetik->talos) (0.4.6)\n",
      "Requirement already satisfied: pygments in c:\\users\\deepi\\anaconda3\\lib\\site-packages (from ipython->astetik->talos) (2.10.0)\n",
      "Requirement already satisfied: traitlets>=4.2 in c:\\users\\deepi\\anaconda3\\lib\\site-packages (from ipython->astetik->talos) (5.1.0)\n",
      "Requirement already satisfied: matplotlib-inline in c:\\users\\deepi\\anaconda3\\lib\\site-packages (from ipython->astetik->talos) (0.1.2)\n",
      "Requirement already satisfied: jedi>=0.16 in c:\\users\\deepi\\anaconda3\\lib\\site-packages (from ipython->astetik->talos) (0.18.0)\n",
      "Requirement already satisfied: decorator in c:\\users\\deepi\\anaconda3\\lib\\site-packages (from ipython->astetik->talos) (5.1.0)\n",
      "Requirement already satisfied: backcall in c:\\users\\deepi\\anaconda3\\lib\\site-packages (from ipython->astetik->talos) (0.2.0)\n",
      "Requirement already satisfied: pickleshare in c:\\users\\deepi\\anaconda3\\lib\\site-packages (from ipython->astetik->talos) (0.7.5)\n",
      "Requirement already satisfied: parso<0.9.0,>=0.8.0 in c:\\users\\deepi\\anaconda3\\lib\\site-packages (from jedi>=0.16->ipython->astetik->talos) (0.8.2)\n",
      "Requirement already satisfied: wcwidth in c:\\users\\deepi\\anaconda3\\lib\\site-packages (from prompt-toolkit!=3.0.0,!=3.0.1,<3.1.0,>=2.0.0->ipython->astetik->talos) (0.2.5)\n",
      "Requirement already satisfied: matplotlib in c:\\users\\deepi\\anaconda3\\lib\\site-packages (from kerasplotlib->talos) (3.4.3)\n",
      "Requirement already satisfied: pyparsing>=2.2.1 in c:\\users\\deepi\\anaconda3\\lib\\site-packages (from matplotlib->kerasplotlib->talos) (3.0.4)\n",
      "Requirement already satisfied: pillow>=6.2.0 in c:\\users\\deepi\\anaconda3\\lib\\site-packages (from matplotlib->kerasplotlib->talos) (10.2.0)\n",
      "Requirement already satisfied: kiwisolver>=1.0.1 in c:\\users\\deepi\\anaconda3\\lib\\site-packages (from matplotlib->kerasplotlib->talos) (1.3.1)\n",
      "Requirement already satisfied: cycler>=0.10 in c:\\users\\deepi\\anaconda3\\lib\\site-packages (from matplotlib->kerasplotlib->talos) (0.10.0)\n",
      "Requirement already satisfied: threadpoolctl>=2.0.0 in c:\\users\\deepi\\anaconda3\\lib\\site-packages (from scikit-learn->talos) (2.2.0)\n",
      "Requirement already satisfied: joblib>=1.0.0 in c:\\users\\deepi\\anaconda3\\lib\\site-packages (from scikit-learn->talos) (1.1.0)\n"
     ]
    }
   ],
   "source": [
    "!pip install talos"
   ]
  },
  {
   "cell_type": "markdown",
   "metadata": {
    "id": "xEXu-mePiK9T"
   },
   "source": [
    "import numpy as np, pandas as pd\n",
    "\n",
    "\n",
    "\n",
    "import re\n",
    "import spacy\n",
    "from spacy.lang.en import English\n",
    "from spacy.lang.en.stop_words import STOP_WORDS\n",
    "from nltk.tokenize import word_tokenize\n",
    "import nltk\n",
    "from nltk.stem import WordNetLemmatizer\n",
    "nltk.download('wordnet')\n",
    "import string\n",
    "from string import ascii_lowercase\n",
    "\n",
    "from tqdm import tqdm_notebook\n",
    "import itertools\n",
    "import io\n",
    "\n",
    "import matplotlib.pyplot as plt\n",
    "%matplotlib inline\n",
    "\n",
    "from functools import reduce\n",
    "from tensorflow import keras\n",
    "from keras.preprocessing.text import Tokenizer\n",
    "from keras.preprocessing.sequence import pad_sequences\n",
    "from keras.layers import Dense, Input, LSTM, Embedding, Dropout, Activation\n",
    "from keras.layers import Bidirectional, GlobalMaxPool1D\n",
    "from keras.models import Model\n",
    "from keras.models import Sequential\n",
    "from keras.layers import Conv1D, MaxPooling1D\n",
    "from keras.layers import BatchNormalization\n",
    "from keras import initializers, regularizers, constraints, optimizers, layers\n",
    "import talos\n",
    "EPS = np.finfo(float).eps"
   ]
  },
  {
   "cell_type": "code",
   "execution_count": 5,
   "metadata": {},
   "outputs": [
    {
     "name": "stdout",
     "output_type": "stream",
     "text": [
      "Requirement already satisfied: statsmodels in c:\\users\\deepi\\anaconda3\\lib\\site-packages (0.12.2)\n",
      "Collecting statsmodels\n",
      "  Downloading statsmodels-0.14.2-cp39-cp39-win_amd64.whl (9.9 MB)\n",
      "Collecting patsy>=0.5.6\n",
      "  Downloading patsy-0.5.6-py2.py3-none-any.whl (233 kB)\n",
      "Requirement already satisfied: scipy!=1.9.2,>=1.8 in c:\\users\\deepi\\anaconda3\\lib\\site-packages (from statsmodels) (1.13.0)\n",
      "Requirement already satisfied: numpy>=1.22.3 in c:\\users\\deepi\\anaconda3\\lib\\site-packages (from statsmodels) (1.26.4)\n",
      "Requirement already satisfied: packaging>=21.3 in c:\\users\\deepi\\anaconda3\\lib\\site-packages (from statsmodels) (23.2)\n",
      "Collecting pandas!=2.1.0,>=1.4\n",
      "  Downloading pandas-2.2.2-cp39-cp39-win_amd64.whl (11.6 MB)\n",
      "Requirement already satisfied: tzdata>=2022.7 in c:\\users\\deepi\\anaconda3\\lib\\site-packages (from pandas!=2.1.0,>=1.4->statsmodels) (2024.1)\n",
      "Requirement already satisfied: python-dateutil>=2.8.2 in c:\\users\\deepi\\anaconda3\\lib\\site-packages (from pandas!=2.1.0,>=1.4->statsmodels) (2.8.2)\n",
      "Requirement already satisfied: pytz>=2020.1 in c:\\users\\deepi\\anaconda3\\lib\\site-packages (from pandas!=2.1.0,>=1.4->statsmodels) (2021.3)\n",
      "Requirement already satisfied: six in c:\\users\\deepi\\anaconda3\\lib\\site-packages (from patsy>=0.5.6->statsmodels) (1.16.0)\n",
      "Installing collected packages: patsy, pandas, statsmodels\n",
      "  Attempting uninstall: patsy\n",
      "    Found existing installation: patsy 0.5.2\n",
      "    Uninstalling patsy-0.5.2:\n",
      "      Successfully uninstalled patsy-0.5.2\n",
      "  Attempting uninstall: pandas\n",
      "    Found existing installation: pandas 1.3.4\n",
      "    Uninstalling pandas-1.3.4:\n",
      "      Successfully uninstalled pandas-1.3.4\n",
      "  Attempting uninstall: statsmodels\n",
      "    Found existing installation: statsmodels 0.12.2\n",
      "    Uninstalling statsmodels-0.12.2:\n",
      "      Successfully uninstalled statsmodels-0.12.2\n",
      "Successfully installed pandas-2.2.2 patsy-0.5.6 statsmodels-0.14.2\n",
      "Note: you may need to restart the kernel to use updated packages.\n"
     ]
    }
   ],
   "source": [
    "pip install --upgrade statsmodels "
   ]
  },
  {
   "cell_type": "code",
   "execution_count": 1,
   "metadata": {},
   "outputs": [
    {
     "name": "stderr",
     "output_type": "stream",
     "text": [
      "C:\\Users\\deepi\\anaconda3\\lib\\site-packages\\pandas\\core\\computation\\expressions.py:21: UserWarning: Pandas requires version '2.8.4' or newer of 'numexpr' (version '2.7.3' currently installed).\n",
      "  from pandas.core.computation.check import NUMEXPR_INSTALLED\n",
      "C:\\Users\\deepi\\anaconda3\\lib\\site-packages\\pandas\\core\\arrays\\masked.py:60: UserWarning: Pandas requires version '1.3.6' or newer of 'bottleneck' (version '1.3.2' currently installed).\n",
      "  from pandas.core import (\n"
     ]
    },
    {
     "name": "stdout",
     "output_type": "stream",
     "text": [
      "0.14.2\n"
     ]
    }
   ],
   "source": [
    "import statsmodels\n",
    "print(statsmodels.__version__)"
   ]
  },
  {
   "cell_type": "code",
   "execution_count": 2,
   "metadata": {},
   "outputs": [
    {
     "name": "stderr",
     "output_type": "stream",
     "text": [
      "[nltk_data] Downloading package wordnet to\n",
      "[nltk_data]     C:\\Users\\deepi\\AppData\\Roaming\\nltk_data...\n",
      "[nltk_data]   Package wordnet is already up-to-date!\n"
     ]
    }
   ],
   "source": [
    "import numpy as np, pandas as pd\n",
    "import re\n",
    "import spacy\n",
    "from spacy.lang.en import English\n",
    "from spacy.lang.en.stop_words import STOP_WORDS\n",
    "from nltk.tokenize import word_tokenize\n",
    "import nltk\n",
    "from nltk.stem import WordNetLemmatizer\n",
    "nltk.download('wordnet')\n",
    "import string\n",
    "from string import ascii_lowercase\n",
    "\n",
    "from tqdm import tqdm_notebook\n",
    "import itertools\n",
    "import io\n",
    "\n",
    "import matplotlib.pyplot as plt\n",
    "%matplotlib inline\n",
    "\n",
    "from functools import reduce\n",
    "from tensorflow import keras\n",
    "from keras.preprocessing.text import Tokenizer\n",
    "from keras.preprocessing.sequence import pad_sequences\n",
    "from keras.layers import Dense, Input, LSTM, Embedding, Dropout, Activation\n",
    "from keras.layers import Bidirectional, GlobalMaxPool1D\n",
    "from keras.models import Model\n",
    "from keras.models import Sequential\n",
    "from keras.layers import Conv1D, MaxPooling1D\n",
    "from keras.layers import BatchNormalization\n",
    "from keras import initializers, regularizers, constraints, optimizers, layers\n",
    "\n",
    "import talos # Import talos after installation\n",
    "\n",
    "EPS = np.finfo(float).eps"
   ]
  },
  {
   "cell_type": "markdown",
   "metadata": {
    "id": "z8KPqb7_vC59"
   },
   "source": [
    "# Importing Data"
   ]
  },
  {
   "cell_type": "code",
   "execution_count": 3,
   "metadata": {
    "id": "96Z6cXAZiaAY"
   },
   "outputs": [],
   "source": [
    "train=pd.read_csv('train.csv')    "
   ]
  },
  {
   "cell_type": "code",
   "execution_count": 4,
   "metadata": {
    "id": "yTbZDdkc1lxE"
   },
   "outputs": [
    {
     "data": {
      "text/html": [
       "<div>\n",
       "<style scoped>\n",
       "    .dataframe tbody tr th:only-of-type {\n",
       "        vertical-align: middle;\n",
       "    }\n",
       "\n",
       "    .dataframe tbody tr th {\n",
       "        vertical-align: top;\n",
       "    }\n",
       "\n",
       "    .dataframe thead th {\n",
       "        text-align: right;\n",
       "    }\n",
       "</style>\n",
       "<table border=\"1\" class=\"dataframe\">\n",
       "  <thead>\n",
       "    <tr style=\"text-align: right;\">\n",
       "      <th></th>\n",
       "      <th>id</th>\n",
       "      <th>comment_text</th>\n",
       "      <th>toxic</th>\n",
       "      <th>severe_toxic</th>\n",
       "      <th>obscene</th>\n",
       "      <th>threat</th>\n",
       "      <th>insult</th>\n",
       "      <th>identity_hate</th>\n",
       "    </tr>\n",
       "  </thead>\n",
       "  <tbody>\n",
       "    <tr>\n",
       "      <th>0</th>\n",
       "      <td>0000997932d777bf</td>\n",
       "      <td>Explanation\\nWhy the edits made under my usern...</td>\n",
       "      <td>0</td>\n",
       "      <td>0</td>\n",
       "      <td>0</td>\n",
       "      <td>0</td>\n",
       "      <td>0</td>\n",
       "      <td>0</td>\n",
       "    </tr>\n",
       "    <tr>\n",
       "      <th>1</th>\n",
       "      <td>000103f0d9cfb60f</td>\n",
       "      <td>D'aww! He matches this background colour I'm s...</td>\n",
       "      <td>0</td>\n",
       "      <td>0</td>\n",
       "      <td>0</td>\n",
       "      <td>0</td>\n",
       "      <td>0</td>\n",
       "      <td>0</td>\n",
       "    </tr>\n",
       "    <tr>\n",
       "      <th>2</th>\n",
       "      <td>000113f07ec002fd</td>\n",
       "      <td>Hey man, I'm really not trying to edit war. It...</td>\n",
       "      <td>0</td>\n",
       "      <td>0</td>\n",
       "      <td>0</td>\n",
       "      <td>0</td>\n",
       "      <td>0</td>\n",
       "      <td>0</td>\n",
       "    </tr>\n",
       "    <tr>\n",
       "      <th>3</th>\n",
       "      <td>0001b41b1c6bb37e</td>\n",
       "      <td>\"\\nMore\\nI can't make any real suggestions on ...</td>\n",
       "      <td>0</td>\n",
       "      <td>0</td>\n",
       "      <td>0</td>\n",
       "      <td>0</td>\n",
       "      <td>0</td>\n",
       "      <td>0</td>\n",
       "    </tr>\n",
       "    <tr>\n",
       "      <th>4</th>\n",
       "      <td>0001d958c54c6e35</td>\n",
       "      <td>You, sir, are my hero. Any chance you remember...</td>\n",
       "      <td>0</td>\n",
       "      <td>0</td>\n",
       "      <td>0</td>\n",
       "      <td>0</td>\n",
       "      <td>0</td>\n",
       "      <td>0</td>\n",
       "    </tr>\n",
       "  </tbody>\n",
       "</table>\n",
       "</div>"
      ],
      "text/plain": [
       "                 id                                       comment_text  toxic  \\\n",
       "0  0000997932d777bf  Explanation\\nWhy the edits made under my usern...      0   \n",
       "1  000103f0d9cfb60f  D'aww! He matches this background colour I'm s...      0   \n",
       "2  000113f07ec002fd  Hey man, I'm really not trying to edit war. It...      0   \n",
       "3  0001b41b1c6bb37e  \"\\nMore\\nI can't make any real suggestions on ...      0   \n",
       "4  0001d958c54c6e35  You, sir, are my hero. Any chance you remember...      0   \n",
       "\n",
       "   severe_toxic  obscene  threat  insult  identity_hate  \n",
       "0             0        0       0       0              0  \n",
       "1             0        0       0       0              0  \n",
       "2             0        0       0       0              0  \n",
       "3             0        0       0       0              0  \n",
       "4             0        0       0       0              0  "
      ]
     },
     "execution_count": 4,
     "metadata": {},
     "output_type": "execute_result"
    }
   ],
   "source": [
    "train.head()"
   ]
  },
  {
   "cell_type": "code",
   "execution_count": 5,
   "metadata": {
    "id": "O2_gDuPMvQHZ"
   },
   "outputs": [],
   "source": [
    "test=pd.read_csv('test.csv')"
   ]
  },
  {
   "cell_type": "code",
   "execution_count": 6,
   "metadata": {
    "id": "vewUHsrQvcti"
   },
   "outputs": [
    {
     "data": {
      "text/html": [
       "<div>\n",
       "<style scoped>\n",
       "    .dataframe tbody tr th:only-of-type {\n",
       "        vertical-align: middle;\n",
       "    }\n",
       "\n",
       "    .dataframe tbody tr th {\n",
       "        vertical-align: top;\n",
       "    }\n",
       "\n",
       "    .dataframe thead th {\n",
       "        text-align: right;\n",
       "    }\n",
       "</style>\n",
       "<table border=\"1\" class=\"dataframe\">\n",
       "  <thead>\n",
       "    <tr style=\"text-align: right;\">\n",
       "      <th></th>\n",
       "      <th>id</th>\n",
       "      <th>comment_text</th>\n",
       "    </tr>\n",
       "  </thead>\n",
       "  <tbody>\n",
       "    <tr>\n",
       "      <th>0</th>\n",
       "      <td>00001cee341fdb12</td>\n",
       "      <td>Yo bitch Ja Rule is more succesful then you'll...</td>\n",
       "    </tr>\n",
       "    <tr>\n",
       "      <th>1</th>\n",
       "      <td>0000247867823ef7</td>\n",
       "      <td>== From RfC == \\n\\n The title is fine as it is...</td>\n",
       "    </tr>\n",
       "    <tr>\n",
       "      <th>2</th>\n",
       "      <td>00013b17ad220c46</td>\n",
       "      <td>\" \\n\\n == Sources == \\n\\n * Zawe Ashton on Lap...</td>\n",
       "    </tr>\n",
       "    <tr>\n",
       "      <th>3</th>\n",
       "      <td>00017563c3f7919a</td>\n",
       "      <td>:If you have a look back at the source, the in...</td>\n",
       "    </tr>\n",
       "    <tr>\n",
       "      <th>4</th>\n",
       "      <td>00017695ad8997eb</td>\n",
       "      <td>I don't anonymously edit articles at all.</td>\n",
       "    </tr>\n",
       "  </tbody>\n",
       "</table>\n",
       "</div>"
      ],
      "text/plain": [
       "                 id                                       comment_text\n",
       "0  00001cee341fdb12  Yo bitch Ja Rule is more succesful then you'll...\n",
       "1  0000247867823ef7  == From RfC == \\n\\n The title is fine as it is...\n",
       "2  00013b17ad220c46  \" \\n\\n == Sources == \\n\\n * Zawe Ashton on Lap...\n",
       "3  00017563c3f7919a  :If you have a look back at the source, the in...\n",
       "4  00017695ad8997eb          I don't anonymously edit articles at all."
      ]
     },
     "execution_count": 6,
     "metadata": {},
     "output_type": "execute_result"
    }
   ],
   "source": [
    "test.head()"
   ]
  },
  {
   "cell_type": "markdown",
   "metadata": {
    "id": "D8hAcigh3Sh3"
   },
   "source": [
    "# Data Exploration"
   ]
  },
  {
   "cell_type": "markdown",
   "metadata": {
    "id": "MsOBGKJI4aHT"
   },
   "source": [
    "Checking for missing values"
   ]
  },
  {
   "cell_type": "code",
   "execution_count": 7,
   "metadata": {
    "id": "ZzAnL7ly1epE"
   },
   "outputs": [
    {
     "data": {
      "text/plain": [
       "id               False\n",
       "comment_text     False\n",
       "toxic            False\n",
       "severe_toxic     False\n",
       "obscene          False\n",
       "threat           False\n",
       "insult           False\n",
       "identity_hate    False\n",
       "dtype: bool"
      ]
     },
     "execution_count": 7,
     "metadata": {},
     "output_type": "execute_result"
    }
   ],
   "source": [
    "train.isnull().any()"
   ]
  },
  {
   "cell_type": "code",
   "execution_count": 8,
   "metadata": {
    "id": "cRc5Wyw24c62"
   },
   "outputs": [
    {
     "data": {
      "text/plain": [
       "id              False\n",
       "comment_text    False\n",
       "dtype: bool"
      ]
     },
     "execution_count": 8,
     "metadata": {},
     "output_type": "execute_result"
    }
   ],
   "source": [
    "test.isnull().any()\n"
   ]
  },
  {
   "cell_type": "code",
   "execution_count": 9,
   "metadata": {
    "id": "TYZ93LlRbwRB"
   },
   "outputs": [],
   "source": [
    "labels = ['toxic', 'severe_toxic', 'obscene', 'threat', 'insult', 'identity_hate']\n",
    "y = train[labels].values"
   ]
  },
  {
   "cell_type": "markdown",
   "metadata": {
    "id": "NDWRHguXxOF_"
   },
   "source": [
    "#Data Pre-processing"
   ]
  },
  {
   "cell_type": "markdown",
   "metadata": {
    "id": "6z-4hq4jyhBw"
   },
   "source": [
    "## Text Normalization"
   ]
  },
  {
   "cell_type": "markdown",
   "metadata": {
    "id": "h4k-vI8DbqiP"
   },
   "source": [
    "* Removing Characters in between Text\n",
    "* Removing Repeated Characters\n",
    "* Converting data to lower-case\n",
    "* Removing Numbers from the data\n",
    "* Remove Punctuation\n",
    "* Remove Whitespaces\n",
    "* Removing spaces in between words\n",
    "* Removing \"\\n\"\n",
    "* Remove Non-english characters"
   ]
  },
  {
   "cell_type": "code",
   "execution_count": 10,
   "metadata": {
    "id": "jglnA7LEbpoA"
   },
   "outputs": [],
   "source": [
    "RE_PATTERNS = {\n",
    "    ' american ':\n",
    "        [\n",
    "            'amerikan'\n",
    "        ],\n",
    "\n",
    "    ' adolf ':\n",
    "        [\n",
    "            'adolf'\n",
    "        ],\n",
    "\n",
    "\n",
    "    ' hitler ':\n",
    "        [\n",
    "            'hitler'\n",
    "        ],\n",
    "\n",
    "    ' fuck':\n",
    "        [\n",
    "            '(f)(u|[^a-z0-9 ])(c|[^a-z0-9 ])(k|[^a-z0-9 ])([^ ])*',\n",
    "            '(f)([^a-z]*)(u)([^a-z]*)(c)([^a-z]*)(k)',\n",
    "            ' f[!@#\\$%\\^\\&\\*]*u[!@#\\$%\\^&\\*]*k', 'f u u c',\n",
    "            '(f)(c|[^a-z ])(u|[^a-z ])(k)', r'f\\*',\n",
    "            'feck ', ' fux ', 'f\\*\\*', 'f**k','fu*k',\n",
    "            'f\\-ing', 'f\\.u\\.', 'f###', ' fu ', 'f@ck', 'f u c k', 'f uck', 'f ck'\n",
    "        ],\n",
    "\n",
    "    ' ass ':\n",
    "        [\n",
    "            '[^a-z]ass ', '[^a-z]azz ', 'arrse', ' arse ', '@\\$\\$',\n",
    "            '[^a-z]anus', ' a\\*s\\*s', '[^a-z]ass[^a-z ]',\n",
    "            'a[@#\\$%\\^&\\*][@#\\$%\\^&\\*]', '[^a-z]anal ', 'a s s','a55', '@$$'\n",
    "        ],\n",
    "\n",
    "    ' ass hole ':\n",
    "        [\n",
    "            ' a[s|z]*wipe', 'a[s|z]*[w]*h[o|0]+[l]*e', '@\\$\\$hole', 'a**hole'\n",
    "        ],\n",
    "\n",
    "    ' bitch ':\n",
    "        [\n",
    "            'b[w]*i[t]*ch', 'b!tch',\n",
    "            'bi\\+ch', 'b!\\+ch', '(b)([^a-z]*)(i)([^a-z]*)(t)([^a-z]*)(c)([^a-z]*)(h)',\n",
    "            'biatch', 'bi\\*\\*h', 'bytch', 'b i t c h', 'b!tch', 'bi+ch', 'l3itch'\n",
    "        ],\n",
    "\n",
    "    ' bastard ':\n",
    "        [\n",
    "            'ba[s|z]+t[e|a]+rd'\n",
    "        ],\n",
    "\n",
    "    ' trans gender':\n",
    "        [\n",
    "            'transgender'\n",
    "        ],\n",
    "\n",
    "    ' gay ':\n",
    "        [\n",
    "            'gay'\n",
    "        ],\n",
    "\n",
    "    ' cock ':\n",
    "        [\n",
    "            '[^a-z]cock', 'c0ck', '[^a-z]cok ', 'c0k', '[^a-z]cok[^aeiou]', ' cawk',\n",
    "            '(c)([^a-z ])(o)([^a-z ]*)(c)([^a-z ]*)(k)', 'c o c k'\n",
    "        ],\n",
    "\n",
    "    ' dick ':\n",
    "        [\n",
    "            ' dick[^aeiou]', 'deek', 'd i c k', 'dik'\n",
    "        ],\n",
    "\n",
    "    ' suck ':\n",
    "        [\n",
    "            'sucker', '(s)([^a-z ]*)(u)([^a-z ]*)(c)([^a-z ]*)(k)', 'sucks', '5uck', 's u c k'\n",
    "        ],\n",
    "\n",
    "    ' cunt ':\n",
    "        [\n",
    "            'cunt', 'c u n t'\n",
    "        ],\n",
    "\n",
    "    ' bull shit ':\n",
    "        [\n",
    "            'bullsh\\*t', 'bull\\$hit'\n",
    "        ],\n",
    "\n",
    "    ' homo sex ual':\n",
    "        [\n",
    "            'homosexual'\n",
    "        ],\n",
    "\n",
    "    ' jerk ':\n",
    "        [\n",
    "            'jerk'\n",
    "        ],\n",
    "\n",
    "    ' idiot ':\n",
    "        [\n",
    "            'i[d]+io[t]+', '(i)([^a-z ]*)(d)([^a-z ]*)(i)([^a-z ]*)(o)([^a-z ]*)(t)', 'idiots'\n",
    "                                                                                      'i d i o t'\n",
    "        ],\n",
    "\n",
    "    ' dumb ':\n",
    "        [\n",
    "            '(d)([^a-z ]*)(u)([^a-z ]*)(m)([^a-z ]*)(b)'\n",
    "        ],\n",
    "\n",
    "    ' shit ':\n",
    "        [\n",
    "            'shitty', '(s)([^a-z ]*)(h)([^a-z ]*)(i)([^a-z ]*)(t)', 'shite', '\\$hit', 's h i t', '$h1t'\n",
    "        ],\n",
    "\n",
    "    ' shit hole ':\n",
    "        [\n",
    "            'shythole'\n",
    "        ],\n",
    "\n",
    "    ' retard ':\n",
    "        [\n",
    "            'returd', 'retad', 'retard', 'wiktard', 'wikitud'\n",
    "        ],\n",
    "\n",
    "    ' rape ':\n",
    "        [\n",
    "            ' raped'\n",
    "        ],\n",
    "\n",
    "    ' dumb ass':\n",
    "        [\n",
    "            'dumbass', 'dubass'\n",
    "        ],\n",
    "\n",
    "    ' ass head':\n",
    "        [\n",
    "            'butthead'\n",
    "        ],\n",
    "\n",
    "    ' sex ':\n",
    "        [\n",
    "            'sexy', 's3x', 'sexuality'\n",
    "        ],\n",
    "\n",
    "\n",
    "    ' nigger ':\n",
    "        [\n",
    "            'nigger', 'ni[g]+a', ' nigr ', 'negrito', 'niguh', 'n3gr', 'n i g g e r'\n",
    "        ],\n",
    "\n",
    "    ' shut the fuck up':\n",
    "        [\n",
    "            'stfu', 'st*u'\n",
    "        ],\n",
    "\n",
    "    ' pussy ':\n",
    "        [\n",
    "            'pussy[^c]', 'pusy', 'pussi[^l]', 'pusses', 'p*ssy'\n",
    "        ],\n",
    "\n",
    "    ' faggot ':\n",
    "        [\n",
    "            'faggot', ' fa[g]+[s]*[^a-z ]', 'fagot', 'f a g g o t', 'faggit',\n",
    "            '(f)([^a-z ]*)(a)([^a-z ]*)([g]+)([^a-z ]*)(o)([^a-z ]*)(t)', 'fau[g]+ot', 'fae[g]+ot',\n",
    "        ],\n",
    "\n",
    "    ' mother fucker':\n",
    "        [\n",
    "            ' motha ', ' motha f', ' mother f', 'motherucker',\n",
    "        ],\n",
    "\n",
    "    ' whore ':\n",
    "        [\n",
    "            'wh\\*\\*\\*', 'w h o r e'\n",
    "        ],\n",
    "    ' fucking ':\n",
    "        [\n",
    "            'f*$%-ing'\n",
    "        ],\n",
    "}\n"
   ]
  },
  {
   "cell_type": "code",
   "execution_count": 11,
   "metadata": {
    "id": "4RetJ1vgswOG"
   },
   "outputs": [],
   "source": [
    "def clean_text(text,remove_repeat_text=True, remove_patterns_text=True, is_lower=True):\n",
    "\n",
    "  if is_lower:\n",
    "    text=text.lower()\n",
    "    \n",
    "  if remove_patterns_text:\n",
    "    for target, patterns in RE_PATTERNS.items():\n",
    "      for pat in patterns:\n",
    "        text=str(text).replace(pat, target)\n",
    "\n",
    "  if remove_repeat_text:\n",
    "    text = re.sub(r'(.)\\1{2,}', r'\\1', text) \n",
    "\n",
    "  text = str(text).replace(\"\\n\", \" \")\n",
    "  text = re.sub(r'[^\\w\\s]',' ',text)\n",
    "  text = re.sub('[0-9]',\"\",text)\n",
    "  text = re.sub(\" +\", \" \", text)\n",
    "  text = re.sub(\"([^\\x00-\\x7F])+\",\" \",text)\n",
    "  return text "
   ]
  },
  {
   "cell_type": "markdown",
   "metadata": {
    "id": "LwyO_GcPuPE_"
   },
   "source": [
    "Cleaning Training Data"
   ]
  },
  {
   "cell_type": "code",
   "execution_count": 12,
   "metadata": {
    "id": "Cak-Q0fl0qyb"
   },
   "outputs": [
    {
     "data": {
      "text/plain": [
       "'d aww he matches this background colour i m seemingly stuck with thanks talk january utc '"
      ]
     },
     "execution_count": 12,
     "metadata": {},
     "output_type": "execute_result"
    }
   ],
   "source": [
    "train['comment_text']=train['comment_text'].apply(lambda x: clean_text(x))\n",
    "train['comment_text'][1]"
   ]
  },
  {
   "cell_type": "markdown",
   "metadata": {
    "id": "8qfbjYXq8huL"
   },
   "source": [
    "Cleaning Test Data"
   ]
  },
  {
   "cell_type": "code",
   "execution_count": 13,
   "metadata": {
    "id": "V02zaxGN8g-s"
   },
   "outputs": [
    {
     "data": {
      "text/plain": [
       "'this is a university ip address just fyi '"
      ]
     },
     "execution_count": 13,
     "metadata": {},
     "output_type": "execute_result"
    }
   ],
   "source": [
    "test['comment_text']=test['comment_text'].apply(lambda x: clean_text(x))\n",
    "test['comment_text'][1048]"
   ]
  },
  {
   "cell_type": "markdown",
   "metadata": {
    "id": "mqRVmH1FRWpL"
   },
   "source": [
    "## Lemmatization"
   ]
  },
  {
   "cell_type": "code",
   "execution_count": 14,
   "metadata": {
    "id": "vnhCAXkKUF9i"
   },
   "outputs": [],
   "source": [
    "comments_train=train['comment_text']\n",
    "comments_test=test['comment_text']"
   ]
  },
  {
   "cell_type": "code",
   "execution_count": 15,
   "metadata": {
    "id": "WwhTNF3pW7Hp"
   },
   "outputs": [],
   "source": [
    "comments_train=list(comments_train)\n",
    "comments_test=list(comments_test)"
   ]
  },
  {
   "cell_type": "code",
   "execution_count": 16,
   "metadata": {
    "id": "IuWMc1xqRVqV"
   },
   "outputs": [],
   "source": [
    "wordnet_lemmatizer = WordNetLemmatizer()"
   ]
  },
  {
   "cell_type": "code",
   "execution_count": 17,
   "metadata": {
    "id": "fi-vYUcPoi-a"
   },
   "outputs": [],
   "source": [
    "def lemma(text, lemmatization=True):\n",
    "  output=\"\"\n",
    "  if lemmatization:\n",
    "    text=text.split(\" \")\n",
    "    for word in text:\n",
    "       word1 = wordnet_lemmatizer.lemmatize(word, pos = \"n\")\n",
    "       word2 = wordnet_lemmatizer.lemmatize(word1, pos = \"v\")\n",
    "       word3 = wordnet_lemmatizer.lemmatize(word2, pos = \"a\")\n",
    "       word4 = wordnet_lemmatizer.lemmatize(word3, pos = \"r\")\n",
    "       output=output + \" \" + word4\n",
    "  else:\n",
    "    output=text\n",
    "  \n",
    "  return str(output.strip()) "
   ]
  },
  {
   "cell_type": "markdown",
   "metadata": {
    "id": "AX4DTjGJ-8Id"
   },
   "source": [
    "Lemmatizing Training Data"
   ]
  },
  {
   "cell_type": "code",
   "execution_count": 18,
   "metadata": {
    "id": "JRquFt30qWk0"
   },
   "outputs": [
    {
     "data": {
      "application/vnd.jupyter.widget-view+json": {
       "model_id": "c7f14d06624f4b46b56bd8894623d4fe",
       "version_major": 2,
       "version_minor": 0
      },
      "text/plain": [
       "  0%|          | 0/159571 [00:00<?, ?it/s]"
      ]
     },
     "metadata": {},
     "output_type": "display_data"
    }
   ],
   "source": [
    "lemmatized_train_data = [] \n",
    "\n",
    "for line in tqdm_notebook(comments_train, total=159571): \n",
    "    lemmatized_train_data.append(lemma(line))"
   ]
  },
  {
   "cell_type": "code",
   "execution_count": 19,
   "metadata": {
    "id": "WK9azHjSrbic"
   },
   "outputs": [
    {
     "data": {
      "text/plain": [
       "'i agree with you about graemel s intention he be a revert nazi and wikipedia ha a way of protect against this report him to the wp rr three revert rule notice board post by report the revert nazi graemel ha show himself herself to be a revert nazi this be unacceptable on a site that be make by it s user and not it s admins if you feel you have be unjustly revert more than time over a hour period please report him her to the three revert noticeboard wp rr it be time to take back what be ours'"
      ]
     },
     "execution_count": 19,
     "metadata": {},
     "output_type": "execute_result"
    }
   ],
   "source": [
    "lemmatized_train_data[152458]"
   ]
  },
  {
   "cell_type": "markdown",
   "metadata": {
    "id": "yxRJbMBQ-oQ-"
   },
   "source": [
    "Lemmatizing Test Data"
   ]
  },
  {
   "cell_type": "code",
   "execution_count": 20,
   "metadata": {
    "id": "B4LZUmqy-vvD"
   },
   "outputs": [
    {
     "data": {
      "application/vnd.jupyter.widget-view+json": {
       "model_id": "ae0fa23f60ad43ecaa75a381c8d3c539",
       "version_major": 2,
       "version_minor": 0
      },
      "text/plain": [
       "  0%|          | 0/153164 [00:00<?, ?it/s]"
      ]
     },
     "metadata": {},
     "output_type": "display_data"
    }
   ],
   "source": [
    "lemmatized_test_data = [] \n",
    "\n",
    "for line in tqdm_notebook(comments_test, total=len(comments_test)): \n",
    "    lemmatized_test_data.append(lemma(line))"
   ]
  },
  {
   "cell_type": "markdown",
   "metadata": {
    "id": "yZaP8BH2UG0N"
   },
   "source": [
    "## Stopwords Removal"
   ]
  },
  {
   "cell_type": "code",
   "execution_count": 21,
   "metadata": {
    "id": "vNKjE4Vq8kpG"
   },
   "outputs": [],
   "source": [
    "stopword_list=STOP_WORDS"
   ]
  },
  {
   "cell_type": "markdown",
   "metadata": {
    "id": "m_oqV08mMWmk"
   },
   "source": [
    "Adding Single and Dual to STOP_WORDS"
   ]
  },
  {
   "cell_type": "code",
   "execution_count": 22,
   "metadata": {
    "id": "go7RVS52I1US"
   },
   "outputs": [],
   "source": [
    "def iter_all_strings():\n",
    "    for size in itertools.count(1):\n",
    "        for s in itertools.product(ascii_lowercase, repeat=size):\n",
    "            yield \"\".join(s)\n",
    "\n",
    "dual_alpha_list=[]\n",
    "for s in iter_all_strings():\n",
    "    dual_alpha_list.append(s)\n",
    "    if s == 'zz':\n",
    "        break"
   ]
  },
  {
   "cell_type": "code",
   "execution_count": 23,
   "metadata": {
    "id": "7_x3bQ4MIGVK"
   },
   "outputs": [],
   "source": [
    "dual_alpha_list.remove('i')\n",
    "dual_alpha_list.remove('a')\n",
    "dual_alpha_list.remove('am')\n",
    "dual_alpha_list.remove('an')\n",
    "dual_alpha_list.remove('as')\n",
    "dual_alpha_list.remove('at')\n",
    "dual_alpha_list.remove('be')\n",
    "dual_alpha_list.remove('by')\n",
    "dual_alpha_list.remove('do')\n",
    "dual_alpha_list.remove('go')\n",
    "dual_alpha_list.remove('he')\n",
    "dual_alpha_list.remove('hi')\n",
    "dual_alpha_list.remove('if')\n",
    "dual_alpha_list.remove('is')\n",
    "dual_alpha_list.remove('in')\n",
    "dual_alpha_list.remove('me')\n",
    "dual_alpha_list.remove('my')\n",
    "dual_alpha_list.remove('no')\n",
    "dual_alpha_list.remove('of')\n",
    "dual_alpha_list.remove('on')\n",
    "dual_alpha_list.remove('or')\n",
    "dual_alpha_list.remove('ok')\n",
    "dual_alpha_list.remove('so')\n",
    "dual_alpha_list.remove('to')\n",
    "dual_alpha_list.remove('up')\n",
    "dual_alpha_list.remove('us')\n",
    "dual_alpha_list.remove('we')"
   ]
  },
  {
   "cell_type": "code",
   "execution_count": 24,
   "metadata": {
    "id": "H11kkMtXMyct"
   },
   "outputs": [
    {
     "name": "stdout",
     "output_type": "stream",
     "text": [
      "Done!!\n"
     ]
    }
   ],
   "source": [
    "for letter in dual_alpha_list:\n",
    "    stopword_list.add(letter)\n",
    "print(\"Done!!\")"
   ]
  },
  {
   "cell_type": "markdown",
   "metadata": {
    "id": "Ti67XuLCNnsL"
   },
   "source": [
    "Checking for other words that we may need in STOP_WORDS"
   ]
  },
  {
   "cell_type": "code",
   "execution_count": 25,
   "metadata": {
    "id": "Z4lBqjcBaDVK"
   },
   "outputs": [],
   "source": [
    "def search_stopwords(data, search_stop=True):\n",
    "  output=\"\"\n",
    "  if search_stop:\n",
    "    data=data.split(\" \")\n",
    "    for word in data:\n",
    "      if not word in stopword_list:\n",
    "        output=output+\" \"+word \n",
    "  else:\n",
    "    output=data\n",
    "\n",
    "  return str(output.strip())  "
   ]
  },
  {
   "cell_type": "code",
   "execution_count": 26,
   "metadata": {
    "id": "xn21RMeIbQti"
   },
   "outputs": [
    {
     "data": {
      "application/vnd.jupyter.widget-view+json": {
       "model_id": "1594405d61d44de6bc9d38eb2493959b",
       "version_major": 2,
       "version_minor": 0
      },
      "text/plain": [
       "  0%|          | 0/159571 [00:00<?, ?it/s]"
      ]
     },
     "metadata": {},
     "output_type": "display_data"
    }
   ],
   "source": [
    "potential_stopwords = [] \n",
    "\n",
    "for line in tqdm_notebook(lemmatized_train_data, total=159571): \n",
    "    potential_stopwords.append(search_stopwords(line))"
   ]
  },
  {
   "cell_type": "code",
   "execution_count": 27,
   "metadata": {
    "id": "R4Yp_YRoap6Q"
   },
   "outputs": [
    {
     "data": {
      "text/plain": [
       "159571"
      ]
     },
     "execution_count": 27,
     "metadata": {},
     "output_type": "execute_result"
    }
   ],
   "source": [
    "len(potential_stopwords)"
   ]
  },
  {
   "cell_type": "markdown",
   "metadata": {
    "id": "PFSkmGjAZuR3"
   },
   "source": [
    "Combining all the sentences in the list into a single string"
   ]
  },
  {
   "cell_type": "code",
   "execution_count": 28,
   "metadata": {
    "id": "zpmze-Q7BrK0"
   },
   "outputs": [],
   "source": [
    "def string_combine_a(stopword):\n",
    "  final_a=\"\"\n",
    "  for item in range(39893):\n",
    "    final_a=final_a+\" \"+stopword[item]\n",
    "  return final_a\n",
    "\n",
    "def string_combine_b(stopword):\n",
    "  final_b=\"\"\n",
    "  for item in range(39893,79785):\n",
    "    final_b=final_b+\" \"+stopword[item]\n",
    "  return final_b\n",
    "\n",
    "def string_combine_c(stopword):\n",
    "  final_c=\"\"\n",
    "  for item in range(79785,119678):\n",
    "    final_c=final_c+\" \"+stopword[item]\n",
    "  return final_c\n",
    "\n",
    "def string_combine_d(stopword):\n",
    "  final_d=\"\"\n",
    "  for item in range(119678,159571):\n",
    "    final_d=final_d+\" \"+stopword[item]\n",
    "  return final_d"
   ]
  },
  {
   "cell_type": "code",
   "execution_count": 29,
   "metadata": {
    "id": "UqBc4rOahmAz"
   },
   "outputs": [],
   "source": [
    "total_string_potential_a=string_combine_a(potential_stopwords)\n",
    "total_string_potential_b=string_combine_b(potential_stopwords)\n",
    "total_string_potential_c=string_combine_c(potential_stopwords)\n",
    "total_string_potential_d=string_combine_d(potential_stopwords)"
   ]
  },
  {
   "cell_type": "markdown",
   "metadata": {
    "id": "hbEm3D8txMSH"
   },
   "source": [
    "Counting the number of words in each of the 4 strings"
   ]
  },
  {
   "cell_type": "code",
   "execution_count": 30,
   "metadata": {
    "id": "O_hhbMS_xR6t"
   },
   "outputs": [],
   "source": [
    "def word_count(str):\n",
    "    counts = dict()\n",
    "    words = str.split()\n",
    "\n",
    "    for word in words:\n",
    "        if word in counts:\n",
    "            counts[word] += 1\n",
    "        else:\n",
    "            counts[word] = 1\n",
    "\n",
    "    return counts"
   ]
  },
  {
   "cell_type": "code",
   "execution_count": 31,
   "metadata": {
    "id": "bsh0BuT9xSDg"
   },
   "outputs": [],
   "source": [
    "total_string_potential_a_dict=word_count(total_string_potential_a)\n",
    "total_string_potential_b_dict=word_count(total_string_potential_b)\n",
    "total_string_potential_c_dict=word_count(total_string_potential_c)\n",
    "total_string_potential_d_dict=word_count(total_string_potential_d)"
   ]
  },
  {
   "cell_type": "markdown",
   "metadata": {
    "id": "shmHkLSk3Xxp"
   },
   "source": [
    "Converting Dictionaries to Dataframe"
   ]
  },
  {
   "cell_type": "code",
   "execution_count": 32,
   "metadata": {
    "id": "pSJXHnv6y9T0"
   },
   "outputs": [],
   "source": [
    "total_string_potential_a_df = pd.DataFrame(list(total_string_potential_a_dict.items()),columns = ['Word','Count'])\n",
    "total_string_potential_b_df = pd.DataFrame(list(total_string_potential_b_dict.items()),columns = ['Word','Count'])\n",
    "total_string_potential_c_df = pd.DataFrame(list(total_string_potential_c_dict.items()),columns = ['Word','Count'])\n",
    "total_string_potential_d_df = pd.DataFrame(list(total_string_potential_d_dict.items()),columns = ['Word','Count'])"
   ]
  },
  {
   "cell_type": "markdown",
   "metadata": {
    "id": "WjWO0vj2yaW7"
   },
   "source": [
    "Getting Dataframe output in descending order"
   ]
  },
  {
   "cell_type": "code",
   "execution_count": 33,
   "metadata": {
    "id": "bzThNOjA2pjx"
   },
   "outputs": [],
   "source": [
    "top50_potential_stopwords_a=total_string_potential_a_df.sort_values(by=['Count'],ascending=False).head(50)\n",
    "top50_potential_stopwords_b=total_string_potential_b_df.sort_values(by=['Count'],ascending=False).head(50)\n",
    "top50_potential_stopwords_c=total_string_potential_c_df.sort_values(by=['Count'],ascending=False).head(50)\n",
    "top50_potential_stopwords_d=total_string_potential_d_df.sort_values(by=['Count'],ascending=False).head(50)"
   ]
  },
  {
   "cell_type": "markdown",
   "metadata": {
    "id": "H1d8reN9CaZ8"
   },
   "source": [
    "Looking for common terms in all top 50 dataframes"
   ]
  },
  {
   "cell_type": "code",
   "execution_count": 34,
   "metadata": {
    "id": "AKUuEbHvCiYG"
   },
   "outputs": [],
   "source": [
    "common_potential_stopwords=list(reduce(set.intersection,map(set,[top50_potential_stopwords_a.Word,top50_potential_stopwords_b.Word,top50_potential_stopwords_c.Word,top50_potential_stopwords_d.Word])))"
   ]
  },
  {
   "cell_type": "code",
   "execution_count": 35,
   "metadata": {
    "id": "FkQme4SIEGBa"
   },
   "outputs": [
    {
     "name": "stdout",
     "output_type": "stream",
     "text": [
      "['know', 'people', 'doe', 'fuck', 'like', 'thank', 'delete', 'need', 'comment', 'use', 'thing', 'link', 'don', 'user', 'information', 'reference', 'article', 'list', 'source', 'change', 'want', 'add', 'deletion', 'image', 'time', 'fact', 'way', 'question', 'block', 'read', 'point', 'talk', 'wikipedia', 'write', 'edit', 'good', 'try', 'page', 'mean', 'section', 'find', 'editor', 'help', 'think', 'remove', 'work', 'look', 'new']\n"
     ]
    }
   ],
   "source": [
    "print(common_potential_stopwords)"
   ]
  },
  {
   "cell_type": "markdown",
   "metadata": {
    "id": "hX3lIQj0l36i"
   },
   "source": [
    "Retaining certain words and removing others from the above list"
   ]
  },
  {
   "cell_type": "code",
   "execution_count": 36,
   "metadata": {
    "id": "zacbW5ASjN2r"
   },
   "outputs": [],
   "source": [
    "potential_stopwords=['editor', 'reference', 'thank', 'work','find', 'good', 'know', 'like', 'look', 'thing', 'want', 'time', 'list', 'section','wikipedia', 'doe', 'add','new', 'try', 'think', 'write','use', 'user', 'way', 'page']"
   ]
  },
  {
   "cell_type": "markdown",
   "metadata": {
    "id": "7-yjjvj3LpZs"
   },
   "source": [
    "Adding above retrived words into the stopwords list"
   ]
  },
  {
   "cell_type": "code",
   "execution_count": 37,
   "metadata": {
    "id": "73PbxjxbLvz9"
   },
   "outputs": [
    {
     "name": "stdout",
     "output_type": "stream",
     "text": [
      "Done!!\n"
     ]
    }
   ],
   "source": [
    "for word in potential_stopwords:\n",
    "    stopword_list.add(word)\n",
    "print(\"Done!!\")"
   ]
  },
  {
   "cell_type": "markdown",
   "metadata": {
    "id": "101v0iZjaNLR"
   },
   "source": [
    "Removing Stopwords from Training Data"
   ]
  },
  {
   "cell_type": "code",
   "execution_count": 38,
   "metadata": {
    "id": "RRSga8PKsktA"
   },
   "outputs": [],
   "source": [
    "def remove_stopwords(text, remove_stop=True):\n",
    "  output = \"\"\n",
    "  if remove_stop:\n",
    "    text=text.split(\" \")\n",
    "    for word in text:\n",
    "      if word not in stopword_list:\n",
    "        output=output + \" \" + word\n",
    "  else :\n",
    "    output=text\n",
    "\n",
    "  return str(output.strip())      "
   ]
  },
  {
   "cell_type": "code",
   "execution_count": 39,
   "metadata": {
    "id": "Q-hItiV7skoV"
   },
   "outputs": [
    {
     "data": {
      "application/vnd.jupyter.widget-view+json": {
       "model_id": "8b8acaef067f42c1aedb4de3ffa12b07",
       "version_major": 2,
       "version_minor": 0
      },
      "text/plain": [
       "  0%|          | 0/159571 [00:00<?, ?it/s]"
      ]
     },
     "metadata": {},
     "output_type": "display_data"
    }
   ],
   "source": [
    "processed_train_data = [] \n",
    "\n",
    "for line in tqdm_notebook(lemmatized_train_data, total=159571): \n",
    "    processed_train_data.append(remove_stopwords(line))"
   ]
  },
  {
   "cell_type": "code",
   "execution_count": 40,
   "metadata": {
    "id": "a29qOSPA-rbS"
   },
   "outputs": [
    {
     "data": {
      "text/plain": [
       "'agree graemel intention revert nazi protect report revert rule notice board post report revert nazi graemel revert nazi unacceptable site admins feel unjustly revert hour period report revert noticeboard'"
      ]
     },
     "execution_count": 40,
     "metadata": {},
     "output_type": "execute_result"
    }
   ],
   "source": [
    "processed_train_data[152458]"
   ]
  },
  {
   "cell_type": "markdown",
   "metadata": {
    "id": "iqXHFaSC-Bkf"
   },
   "source": [
    "Removing Stopwords from Test Data"
   ]
  },
  {
   "cell_type": "code",
   "execution_count": 41,
   "metadata": {
    "id": "EQ_lUOej-H_b"
   },
   "outputs": [
    {
     "data": {
      "application/vnd.jupyter.widget-view+json": {
       "model_id": "c7f62c576e4048248ac514ec256efafc",
       "version_major": 2,
       "version_minor": 0
      },
      "text/plain": [
       "  0%|          | 0/153164 [00:00<?, ?it/s]"
      ]
     },
     "metadata": {},
     "output_type": "display_data"
    }
   ],
   "source": [
    "processed_test_data = [] \n",
    "\n",
    "for line in tqdm_notebook(lemmatized_test_data, total=153164): \n",
    "    processed_test_data.append(remove_stopwords(line))"
   ]
  },
  {
   "cell_type": "markdown",
   "metadata": {
    "id": "CeScalvZDEdD"
   },
   "source": [
    "# Model Building"
   ]
  },
  {
   "cell_type": "code",
   "execution_count": 42,
   "metadata": {
    "id": "SkK1P-CdX_0N"
   },
   "outputs": [],
   "source": [
    "max_features=100000      \n",
    "maxpadlen = 200          \n",
    "val_split = 0.2      \n",
    "embedding_dim_fasttext = 300"
   ]
  },
  {
   "cell_type": "markdown",
   "metadata": {
    "id": "GIeovLIr6aAo"
   },
   "source": [
    "Tokenization"
   ]
  },
  {
   "cell_type": "code",
   "execution_count": 43,
   "metadata": {
    "id": "qaA52PlK4xnV"
   },
   "outputs": [],
   "source": [
    "tokenizer = Tokenizer(num_words=max_features)\n",
    "tokenizer.fit_on_texts(list(processed_train_data))\n",
    "list_tokenized_train = tokenizer.texts_to_sequences(processed_train_data)\n",
    "list_tokenized_test = tokenizer.texts_to_sequences(processed_test_data)"
   ]
  },
  {
   "cell_type": "code",
   "execution_count": 44,
   "metadata": {
    "id": "pkSXj5sT7jbR"
   },
   "outputs": [
    {
     "name": "stdout",
     "output_type": "stream",
     "text": [
      "Words in Vocabulary:  148917\n"
     ]
    }
   ],
   "source": [
    "word_index=tokenizer.word_index\n",
    "print(\"Words in Vocabulary: \",len(word_index))"
   ]
  },
  {
   "cell_type": "markdown",
   "metadata": {
    "id": "TfDwmzPj8TJf"
   },
   "source": [
    "Padding"
   ]
  },
  {
   "cell_type": "code",
   "execution_count": 45,
   "metadata": {
    "id": "gEmacO337twa"
   },
   "outputs": [],
   "source": [
    "X_t=pad_sequences(list_tokenized_train, maxlen=maxpadlen, padding = 'post')\n",
    "X_te=pad_sequences(list_tokenized_test, maxlen=maxpadlen, padding = 'post')"
   ]
  },
  {
   "cell_type": "code",
   "execution_count": 46,
   "metadata": {
    "colab": {
     "base_uri": "https://localhost:8080/"
    },
    "id": "U6dAeWAnM4RL",
    "outputId": "675973f5-74c8-4cf1-c0c4-0408f85ebf48"
   },
   "outputs": [
    {
     "name": "stdout",
     "output_type": "stream",
     "text": [
      "Tokenized sentences: \n",
      " [  116   578    11 32199   239   192    11 32199   239    90    11   579\n",
      "    11   116   366   578     1  1082   116   338  5356   116   119    11\n",
      "   387   269   366   578    11     1  1341   116    11   387     2    32\n",
      "   116   578   192   116   172    46    84   579   116   578    11     2\n",
      "   488   105    10  1087   403  1073    11  2401   489    36   116    11\n",
      "   192   407   366     9   255   192   242   150   109    18    19    29\n",
      "   172    77    19     3   257  4540     4    11 32199   239   192    11\n",
      " 32199   239    90   171   387   312    68   579    34    44    77   423\n",
      "  1550    34   171     8   579  1268    77  1638   134    10   134  4671\n",
      "   134    94    44   565  1255    17    77  1338   118   134  1577    77\n",
      "  1134     4   507    77   434    31   171    68    34   168  2207   449\n",
      "    31   315  1529    70   172   236   150   116    31    31    11    77\n",
      "    31   116    11    77    31    77    31   192   171    46    84   579\n",
      "     4    31   171   192    80    10   862  3126    11     9   255    31\n",
      "   242   150   109    18    11    77   124    67   434   116    11     9\n",
      "   357    19    29   172    77    19     3   257     0     0     0     0\n",
      "     0     0     0     0     0     0     0     0]\n",
      "One hot label: \n",
      " [0 0 0 0 0 0]\n"
     ]
    }
   ],
   "source": [
    "print('Tokenized sentences: \\n', X_t[10])\n",
    "print('One hot label: \\n', y[10])"
   ]
  },
  {
   "cell_type": "code",
   "execution_count": 47,
   "metadata": {
    "id": "XtZD1j9BCrsG"
   },
   "outputs": [],
   "source": [
    "indices = np.arange(X_t.shape[0])\n",
    "np.random.shuffle(indices)"
   ]
  },
  {
   "cell_type": "code",
   "execution_count": 48,
   "metadata": {
    "id": "k51hkGqOnZLB"
   },
   "outputs": [],
   "source": [
    "X_t = X_t[indices]\n",
    "labels = y[indices]"
   ]
  },
  {
   "cell_type": "markdown",
   "metadata": {
    "id": "MWn-SkJCCswd"
   },
   "source": [
    "### Splitting data into Training and Validation Set"
   ]
  },
  {
   "cell_type": "code",
   "execution_count": 49,
   "metadata": {
    "id": "B5hOSGJVb7o4"
   },
   "outputs": [],
   "source": [
    "num_validation_samples = int(val_split*X_t.shape[0])\n",
    "x_train = X_t[: -num_validation_samples]\n",
    "y_train = labels[: -num_validation_samples]\n",
    "x_val = X_t[-num_validation_samples: ]\n",
    "y_val = labels[-num_validation_samples: ]"
   ]
  },
  {
   "cell_type": "code",
   "execution_count": 50,
   "metadata": {
    "id": "cHyYFZPDcEmK"
   },
   "outputs": [
    {
     "name": "stdout",
     "output_type": "stream",
     "text": [
      "Number of entries in each category:\n",
      "training:  [12180  1272  6726   373  6252  1104]\n",
      "validation:  [3114  323 1723  105 1625  301]\n"
     ]
    }
   ],
   "source": [
    "print('Number of entries in each category:')\n",
    "print('training: ', y_train.sum(axis=0))\n",
    "print('validation: ', y_val.sum(axis=0))"
   ]
  },
  {
   "cell_type": "markdown",
   "metadata": {
    "id": "hL7Mv1Z6D8_w"
   },
   "source": [
    "### Importing Fast Text"
   ]
  },
  {
   "cell_type": "code",
   "execution_count": 51,
   "metadata": {
    "id": "vsvNLXZ6DlWS"
   },
   "outputs": [],
   "source": [
    "embeddings_index_fasttext = {}\n",
    "f = open('wiki-news-300d-1M.vec', encoding='utf8')\n",
    "for line in f:\n",
    "    values = line.split()\n",
    "    word = values[0]\n",
    "    embeddings_index_fasttext[word] = np.asarray(values[1:], dtype='float32')\n",
    "f.close()"
   ]
  },
  {
   "cell_type": "code",
   "execution_count": 52,
   "metadata": {
    "id": "hpkSOB6iEFCB"
   },
   "outputs": [
    {
     "name": "stdout",
     "output_type": "stream",
     "text": [
      " Completed!\n"
     ]
    }
   ],
   "source": [
    "embedding_matrix_fasttext = np.random.random((len(word_index) + 1, embedding_dim_fasttext))\n",
    "for word, i in word_index.items():\n",
    "    embedding_vector = embeddings_index_fasttext.get(word)\n",
    "    if embedding_vector is not None:\n",
    "        embedding_matrix_fasttext[i] = embedding_vector\n",
    "print(\" Completed!\")"
   ]
  },
  {
   "cell_type": "markdown",
   "metadata": {
    "id": "0OoZ7fTpPWhi"
   },
   "source": [
    "### Creating Model"
   ]
  },
  {
   "cell_type": "markdown",
   "metadata": {
    "id": "Dwzg_WX32OG3"
   },
   "source": [
    "#### Talos Grid Search  for LSTM Model"
   ]
  },
  {
   "cell_type": "code",
   "execution_count": 53,
   "metadata": {
    "id": "oZdik3-jGkye"
   },
   "outputs": [],
   "source": [
    "def toxic_classifier(x_train,y_train,x_val,y_val,params):\n",
    "\n",
    "  inp=Input(shape=(maxpadlen, ),dtype='int32')\n",
    "\n",
    "  embedding_layer = Embedding(len(word_index) + 1,\n",
    "                           embedding_dim_fasttext,\n",
    "                           weights = [embedding_matrix_fasttext],\n",
    "                           input_length = maxpadlen,\n",
    "                           trainable=False,\n",
    "                           name = 'embeddings')\n",
    "  embedded_sequences = embedding_layer(inp)\n",
    "\n",
    "  x = LSTM(params['output_count_lstm'], return_sequences=True,name='lstm_layer')(embedded_sequences)\n",
    "  \n",
    "  x = GlobalMaxPool1D()(x)\n",
    "  \n",
    "  x = Dropout(params['dropout'])(x)\n",
    "  \n",
    "  x = Dense(params['output_count_dense'], activation=params['activation'], kernel_initializer='he_uniform')(x)\n",
    "  \n",
    "  x = Dropout(params['dropout'])(x)\n",
    "  \n",
    "  preds = Dense(6, activation=params['last_activation'], kernel_initializer='glorot_uniform')(x)\n",
    "\n",
    "  model = Model(inputs=inp, outputs=preds)\n",
    "\n",
    "  model.compile(loss=params['loss'], optimizer=params['optimizer'], metrics=['accuracy'])\n",
    "\n",
    "  model_info=model.fit(x_train,y_train, epochs=params['epochs'], batch_size=params['batch_size'],  validation_data=(x_val, y_val))\n",
    "\n",
    "  return model_info, model"
   ]
  },
  {
   "cell_type": "code",
   "execution_count": 54,
   "metadata": {
    "id": "-6AtSibHGoTU"
   },
   "outputs": [],
   "source": [
    "p={\n",
    "    'output_count_lstm': [40,50,60],\n",
    "    'output_count_dense': [30,40,50],\n",
    "    'batch_size': [32],\n",
    "    'epochs':[2],\n",
    "    'optimizer':['adam'],\n",
    "    'activation':['relu'],\n",
    "    'last_activation': ['sigmoid'],\n",
    "    'dropout':[0.1,0.2],\n",
    "    'loss': ['binary_crossentropy']   \n",
    "}"
   ]
  },
  {
   "cell_type": "code",
   "execution_count": 55,
   "metadata": {},
   "outputs": [
    {
     "name": "stderr",
     "output_type": "stream",
     "text": [
      "\r",
      "  0%|                                                                                           | 0/18 [00:00<?, ?it/s]"
     ]
    },
    {
     "name": "stdout",
     "output_type": "stream",
     "text": [
      "{'output_count_lstm': 40, 'output_count_dense': 30, 'batch_size': 32, 'epochs': 2, 'optimizer': 'adam', 'activation': 'relu', 'last_activation': 'sigmoid', 'dropout': 0.1, 'loss': 'binary_crossentropy'}\n",
      "Epoch 1/2\n",
      "3990/3990 [==============================] - 338s 84ms/step - loss: 0.0658 - accuracy: 0.9140 - val_loss: 0.0504 - val_accuracy: 0.9939\n",
      "Epoch 2/2\n",
      "3990/3990 [==============================] - 331s 83ms/step - loss: 0.0499 - accuracy: 0.9823 - val_loss: 0.0483 - val_accuracy: 0.9939\n"
     ]
    },
    {
     "name": "stderr",
     "output_type": "stream",
     "text": [
      "\r",
      "  6%|████▍                                                                           | 1/18 [11:20<3:12:51, 680.69s/it]"
     ]
    },
    {
     "name": "stdout",
     "output_type": "stream",
     "text": [
      "{'output_count_lstm': 40, 'output_count_dense': 30, 'batch_size': 32, 'epochs': 2, 'optimizer': 'adam', 'activation': 'relu', 'last_activation': 'sigmoid', 'dropout': 0.2, 'loss': 'binary_crossentropy'}\n",
      "Epoch 1/2\n",
      "3990/3990 [==============================] - 373s 93ms/step - loss: 0.0722 - accuracy: 0.8947 - val_loss: 0.0520 - val_accuracy: 0.9939\n",
      "Epoch 2/2\n",
      "3990/3990 [==============================] - 351s 88ms/step - loss: 0.0528 - accuracy: 0.9863 - val_loss: 0.0497 - val_accuracy: 0.9939\n"
     ]
    },
    {
     "name": "stderr",
     "output_type": "stream",
     "text": [
      "\r",
      " 11%|████████▉                                                                       | 2/18 [23:35<3:10:01, 712.61s/it]"
     ]
    },
    {
     "name": "stdout",
     "output_type": "stream",
     "text": [
      "{'output_count_lstm': 40, 'output_count_dense': 40, 'batch_size': 32, 'epochs': 2, 'optimizer': 'adam', 'activation': 'relu', 'last_activation': 'sigmoid', 'dropout': 0.1, 'loss': 'binary_crossentropy'}\n",
      "Epoch 1/2\n",
      "3990/3990 [==============================] - 366s 91ms/step - loss: 0.0634 - accuracy: 0.9469 - val_loss: 0.0496 - val_accuracy: 0.9939\n",
      "Epoch 2/2\n",
      "3990/3990 [==============================] - 363s 91ms/step - loss: 0.0493 - accuracy: 0.9902 - val_loss: 0.0476 - val_accuracy: 0.9939\n"
     ]
    },
    {
     "name": "stderr",
     "output_type": "stream",
     "text": [
      "\r",
      " 17%|█████████████▎                                                                  | 3/18 [35:53<3:01:04, 724.33s/it]"
     ]
    },
    {
     "name": "stdout",
     "output_type": "stream",
     "text": [
      "{'output_count_lstm': 40, 'output_count_dense': 40, 'batch_size': 32, 'epochs': 2, 'optimizer': 'adam', 'activation': 'relu', 'last_activation': 'sigmoid', 'dropout': 0.2, 'loss': 'binary_crossentropy'}\n",
      "Epoch 1/2\n",
      "3990/3990 [==============================] - 356s 89ms/step - loss: 0.0710 - accuracy: 0.9214 - val_loss: 0.0513 - val_accuracy: 0.9939\n",
      "Epoch 2/2\n",
      "3990/3990 [==============================] - 363s 91ms/step - loss: 0.0512 - accuracy: 0.9896 - val_loss: 0.0501 - val_accuracy: 0.9939\n"
     ]
    },
    {
     "name": "stderr",
     "output_type": "stream",
     "text": [
      "\r",
      " 22%|█████████████████▊                                                              | 4/18 [48:00<2:49:12, 725.21s/it]"
     ]
    },
    {
     "name": "stdout",
     "output_type": "stream",
     "text": [
      "{'output_count_lstm': 40, 'output_count_dense': 50, 'batch_size': 32, 'epochs': 2, 'optimizer': 'adam', 'activation': 'relu', 'last_activation': 'sigmoid', 'dropout': 0.1, 'loss': 'binary_crossentropy'}\n",
      "Epoch 1/2\n",
      "3990/3990 [==============================] - 356s 89ms/step - loss: 0.0647 - accuracy: 0.9326 - val_loss: 0.0499 - val_accuracy: 0.9939\n",
      "Epoch 2/2\n",
      "3990/3990 [==============================] - 348s 87ms/step - loss: 0.0497 - accuracy: 0.9857 - val_loss: 0.0475 - val_accuracy: 0.9932\n"
     ]
    },
    {
     "name": "stderr",
     "output_type": "stream",
     "text": [
      "\r",
      " 28%|██████████████████████▏                                                         | 5/18 [59:51<2:36:02, 720.22s/it]"
     ]
    },
    {
     "name": "stdout",
     "output_type": "stream",
     "text": [
      "{'output_count_lstm': 40, 'output_count_dense': 50, 'batch_size': 32, 'epochs': 2, 'optimizer': 'adam', 'activation': 'relu', 'last_activation': 'sigmoid', 'dropout': 0.2, 'loss': 'binary_crossentropy'}\n",
      "Epoch 1/2\n",
      "3990/3990 [==============================] - 355s 88ms/step - loss: 0.0674 - accuracy: 0.9502 - val_loss: 0.0516 - val_accuracy: 0.9939\n",
      "Epoch 2/2\n",
      "3990/3990 [==============================] - 348s 87ms/step - loss: 0.0517 - accuracy: 0.9900 - val_loss: 0.0493 - val_accuracy: 0.9940\n"
     ]
    },
    {
     "name": "stderr",
     "output_type": "stream",
     "text": [
      "\r",
      " 33%|██████████████████████████                                                    | 6/18 [1:11:39<2:23:10, 715.91s/it]"
     ]
    },
    {
     "name": "stdout",
     "output_type": "stream",
     "text": [
      "{'output_count_lstm': 50, 'output_count_dense': 30, 'batch_size': 32, 'epochs': 2, 'optimizer': 'adam', 'activation': 'relu', 'last_activation': 'sigmoid', 'dropout': 0.1, 'loss': 'binary_crossentropy'}\n",
      "Epoch 1/2\n",
      "3990/3990 [==============================] - 408s 102ms/step - loss: 0.0623 - accuracy: 0.9531 - val_loss: 0.0506 - val_accuracy: 0.9926\n",
      "Epoch 2/2\n",
      "3990/3990 [==============================] - 395s 99ms/step - loss: 0.0502 - accuracy: 0.9886 - val_loss: 0.0478 - val_accuracy: 0.9938\n"
     ]
    },
    {
     "name": "stderr",
     "output_type": "stream",
     "text": [
      "\r",
      " 39%|██████████████████████████████▎                                               | 7/18 [1:25:11<2:17:01, 747.42s/it]"
     ]
    },
    {
     "name": "stdout",
     "output_type": "stream",
     "text": [
      "{'output_count_lstm': 50, 'output_count_dense': 30, 'batch_size': 32, 'epochs': 2, 'optimizer': 'adam', 'activation': 'relu', 'last_activation': 'sigmoid', 'dropout': 0.2, 'loss': 'binary_crossentropy'}\n",
      "Epoch 1/2\n",
      "3990/3990 [==============================] - 421s 105ms/step - loss: 0.0672 - accuracy: 0.9004 - val_loss: 0.0501 - val_accuracy: 0.9939\n",
      "Epoch 2/2\n",
      "3990/3990 [==============================] - 404s 101ms/step - loss: 0.0510 - accuracy: 0.9863 - val_loss: 0.0482 - val_accuracy: 0.9939\n"
     ]
    },
    {
     "name": "stderr",
     "output_type": "stream",
     "text": [
      "\r",
      " 44%|██████████████████████████████████▋                                           | 8/18 [1:38:59<2:08:50, 773.04s/it]"
     ]
    },
    {
     "name": "stdout",
     "output_type": "stream",
     "text": [
      "{'output_count_lstm': 50, 'output_count_dense': 40, 'batch_size': 32, 'epochs': 2, 'optimizer': 'adam', 'activation': 'relu', 'last_activation': 'sigmoid', 'dropout': 0.1, 'loss': 'binary_crossentropy'}\n",
      "Epoch 1/2\n",
      "3990/3990 [==============================] - 423s 105ms/step - loss: 0.0631 - accuracy: 0.9390 - val_loss: 0.0504 - val_accuracy: 0.9939\n",
      "Epoch 2/2\n",
      "3990/3990 [==============================] - 420s 105ms/step - loss: 0.0491 - accuracy: 0.9854 - val_loss: 0.0476 - val_accuracy: 0.9936\n"
     ]
    },
    {
     "name": "stderr",
     "output_type": "stream",
     "text": [
      "\r",
      " 50%|███████████████████████████████████████                                       | 9/18 [1:53:07<1:59:28, 796.51s/it]"
     ]
    },
    {
     "name": "stdout",
     "output_type": "stream",
     "text": [
      "{'output_count_lstm': 50, 'output_count_dense': 40, 'batch_size': 32, 'epochs': 2, 'optimizer': 'adam', 'activation': 'relu', 'last_activation': 'sigmoid', 'dropout': 0.2, 'loss': 'binary_crossentropy'}\n",
      "Epoch 1/2\n",
      "3990/3990 [==============================] - 473s 118ms/step - loss: 0.0666 - accuracy: 0.9163 - val_loss: 0.0506 - val_accuracy: 0.9939\n",
      "Epoch 2/2\n",
      "3990/3990 [==============================] - 458s 115ms/step - loss: 0.0515 - accuracy: 0.9843 - val_loss: 0.0495 - val_accuracy: 0.9939\n"
     ]
    },
    {
     "name": "stderr",
     "output_type": "stream",
     "text": [
      "\r",
      " 56%|██████████████████████████████████████████▊                                  | 10/18 [2:08:46<1:52:04, 840.51s/it]"
     ]
    },
    {
     "name": "stdout",
     "output_type": "stream",
     "text": [
      "{'output_count_lstm': 50, 'output_count_dense': 50, 'batch_size': 32, 'epochs': 2, 'optimizer': 'adam', 'activation': 'relu', 'last_activation': 'sigmoid', 'dropout': 0.1, 'loss': 'binary_crossentropy'}\n",
      "Epoch 1/2\n",
      "3990/3990 [==============================] - 451s 112ms/step - loss: 0.0617 - accuracy: 0.9386 - val_loss: 0.0513 - val_accuracy: 0.9938\n",
      "Epoch 2/2\n",
      "3990/3990 [==============================] - 443s 111ms/step - loss: 0.0487 - accuracy: 0.9911 - val_loss: 0.0474 - val_accuracy: 0.9939\n"
     ]
    },
    {
     "name": "stderr",
     "output_type": "stream",
     "text": [
      "\r",
      " 61%|███████████████████████████████████████████████                              | 11/18 [2:23:51<1:40:21, 860.28s/it]"
     ]
    },
    {
     "name": "stdout",
     "output_type": "stream",
     "text": [
      "{'output_count_lstm': 50, 'output_count_dense': 50, 'batch_size': 32, 'epochs': 2, 'optimizer': 'adam', 'activation': 'relu', 'last_activation': 'sigmoid', 'dropout': 0.2, 'loss': 'binary_crossentropy'}\n",
      "Epoch 1/2\n",
      "3990/3990 [==============================] - 454s 113ms/step - loss: 0.0648 - accuracy: 0.9213 - val_loss: 0.0493 - val_accuracy: 0.9939\n",
      "Epoch 2/2\n",
      "3990/3990 [==============================] - 442s 111ms/step - loss: 0.0496 - accuracy: 0.9799 - val_loss: 0.0476 - val_accuracy: 0.9939\n"
     ]
    },
    {
     "name": "stderr",
     "output_type": "stream",
     "text": [
      "\r",
      " 67%|███████████████████████████████████████████████████▎                         | 12/18 [2:38:55<1:27:20, 873.38s/it]"
     ]
    },
    {
     "name": "stdout",
     "output_type": "stream",
     "text": [
      "{'output_count_lstm': 60, 'output_count_dense': 30, 'batch_size': 32, 'epochs': 2, 'optimizer': 'adam', 'activation': 'relu', 'last_activation': 'sigmoid', 'dropout': 0.1, 'loss': 'binary_crossentropy'}\n",
      "Epoch 1/2\n",
      "3990/3990 [==============================] - 449s 112ms/step - loss: 0.0665 - accuracy: 0.8755 - val_loss: 0.0514 - val_accuracy: 0.9939\n",
      "Epoch 2/2\n",
      "3990/3990 [==============================] - 450s 113ms/step - loss: 0.0502 - accuracy: 0.9850 - val_loss: 0.0481 - val_accuracy: 0.9939\n"
     ]
    },
    {
     "name": "stderr",
     "output_type": "stream",
     "text": [
      "\r",
      " 72%|███████████████████████████████████████████████████████▌                     | 13/18 [2:54:00<1:13:34, 882.97s/it]"
     ]
    },
    {
     "name": "stdout",
     "output_type": "stream",
     "text": [
      "{'output_count_lstm': 60, 'output_count_dense': 30, 'batch_size': 32, 'epochs': 2, 'optimizer': 'adam', 'activation': 'relu', 'last_activation': 'sigmoid', 'dropout': 0.2, 'loss': 'binary_crossentropy'}\n",
      "Epoch 1/2\n",
      "3990/3990 [==============================] - 433s 108ms/step - loss: 0.0634 - accuracy: 0.9218 - val_loss: 0.0504 - val_accuracy: 0.9939\n",
      "Epoch 2/2\n",
      "3990/3990 [==============================] - 420s 105ms/step - loss: 0.0503 - accuracy: 0.9903 - val_loss: 0.0474 - val_accuracy: 0.9939\n"
     ]
    },
    {
     "name": "stderr",
     "output_type": "stream",
     "text": [
      "\r",
      " 78%|█████████████████████████████████████████████████████████████▍                 | 14/18 [3:08:18<58:22, 875.53s/it]"
     ]
    },
    {
     "name": "stdout",
     "output_type": "stream",
     "text": [
      "{'output_count_lstm': 60, 'output_count_dense': 40, 'batch_size': 32, 'epochs': 2, 'optimizer': 'adam', 'activation': 'relu', 'last_activation': 'sigmoid', 'dropout': 0.1, 'loss': 'binary_crossentropy'}\n",
      "Epoch 1/2\n",
      "3990/3990 [==============================] - 426s 106ms/step - loss: 0.0619 - accuracy: 0.8945 - val_loss: 0.0505 - val_accuracy: 0.9938\n",
      "Epoch 2/2\n",
      "3990/3990 [==============================] - 426s 107ms/step - loss: 0.0493 - accuracy: 0.9813 - val_loss: 0.0474 - val_accuracy: 0.9939\n"
     ]
    },
    {
     "name": "stderr",
     "output_type": "stream",
     "text": [
      "\r",
      " 83%|█████████████████████████████████████████████████████████████████▊             | 15/18 [3:22:36<43:30, 870.23s/it]"
     ]
    },
    {
     "name": "stdout",
     "output_type": "stream",
     "text": [
      "{'output_count_lstm': 60, 'output_count_dense': 40, 'batch_size': 32, 'epochs': 2, 'optimizer': 'adam', 'activation': 'relu', 'last_activation': 'sigmoid', 'dropout': 0.2, 'loss': 'binary_crossentropy'}\n",
      "Epoch 1/2\n",
      "3990/3990 [==============================] - 430s 107ms/step - loss: 0.0658 - accuracy: 0.9181 - val_loss: 0.0509 - val_accuracy: 0.9939\n",
      "Epoch 2/2\n",
      "3990/3990 [==============================] - 429s 107ms/step - loss: 0.0510 - accuracy: 0.9877 - val_loss: 0.0483 - val_accuracy: 0.9938\n"
     ]
    },
    {
     "name": "stderr",
     "output_type": "stream",
     "text": [
      "\r",
      " 89%|██████████████████████████████████████████████████████████████████████▏        | 16/18 [3:36:59<28:56, 868.04s/it]"
     ]
    },
    {
     "name": "stdout",
     "output_type": "stream",
     "text": [
      "{'output_count_lstm': 60, 'output_count_dense': 50, 'batch_size': 32, 'epochs': 2, 'optimizer': 'adam', 'activation': 'relu', 'last_activation': 'sigmoid', 'dropout': 0.1, 'loss': 'binary_crossentropy'}\n",
      "Epoch 1/2\n",
      "3990/3990 [==============================] - 422s 105ms/step - loss: 0.0593 - accuracy: 0.9627 - val_loss: 0.0496 - val_accuracy: 0.9939\n",
      "Epoch 2/2\n",
      "3990/3990 [==============================] - 425s 107ms/step - loss: 0.0483 - accuracy: 0.9905 - val_loss: 0.0485 - val_accuracy: 0.9939\n"
     ]
    },
    {
     "name": "stderr",
     "output_type": "stream",
     "text": [
      "\r",
      " 94%|██████████████████████████████████████████████████████████████████████████▌    | 17/18 [3:51:11<14:23, 863.15s/it]"
     ]
    },
    {
     "name": "stdout",
     "output_type": "stream",
     "text": [
      "{'output_count_lstm': 60, 'output_count_dense': 50, 'batch_size': 32, 'epochs': 2, 'optimizer': 'adam', 'activation': 'relu', 'last_activation': 'sigmoid', 'dropout': 0.2, 'loss': 'binary_crossentropy'}\n",
      "Epoch 1/2\n",
      "3990/3990 [==============================] - 418s 104ms/step - loss: 0.0645 - accuracy: 0.9475 - val_loss: 0.0505 - val_accuracy: 0.9939\n",
      "Epoch 2/2\n",
      "3990/3990 [==============================] - 419s 105ms/step - loss: 0.0502 - accuracy: 0.9915 - val_loss: 0.0476 - val_accuracy: 0.9939\n"
     ]
    },
    {
     "name": "stderr",
     "output_type": "stream",
     "text": [
      "100%|███████████████████████████████████████████████████████████████████████████████| 18/18 [4:05:15<00:00, 817.51s/it]\n"
     ]
    }
   ],
   "source": [
    "scan_results = talos.Scan(x=x_train,\n",
    "               y=y_train,\n",
    "               x_val=x_val,\n",
    "               y_val=y_val,\n",
    "               model=toxic_classifier,\n",
    "               params=p,\n",
    "               experiment_name='tcc',\n",
    "               print_params=True)"
   ]
  },
  {
   "cell_type": "code",
   "execution_count": 56,
   "metadata": {
    "id": "HXl1ZQSWtdYK"
   },
   "outputs": [
    {
     "data": {
      "text/plain": [
       "5"
      ]
     },
     "execution_count": 56,
     "metadata": {},
     "output_type": "execute_result"
    }
   ],
   "source": [
    "model_id = scan_results.data['val_accuracy'].astype('float').argmax()\n",
    "model_id"
   ]
  },
  {
   "cell_type": "code",
   "execution_count": 57,
   "metadata": {
    "id": "7yict0QyGxV7"
   },
   "outputs": [],
   "source": [
    "analyze_object = talos.Analyze(scan_results)"
   ]
  },
  {
   "cell_type": "code",
   "execution_count": 58,
   "metadata": {
    "id": "S3d78iYYG0I3"
   },
   "outputs": [
    {
     "data": {
      "text/plain": [
       "array([[50, '05/19/24-135558', 'sigmoid', 'adam', 2, 2,\n",
       "        '05/19/24-140742', 0.2, 32, 703.210214138031, 'relu', 40, 0],\n",
       "       [30, '05/19/24-125606', 'sigmoid', 'adam', 2, 2,\n",
       "        '05/19/24-130721', 0.1, 32, 674.1121010780334, 'relu', 40, 1],\n",
       "       [30, '05/19/24-142118', 'sigmoid', 'adam', 2, 2,\n",
       "        '05/19/24-143504', 0.2, 32, 825.8660485744476, 'relu', 50, 2],\n",
       "       [40, '05/19/24-160425', 'sigmoid', 'adam', 2, 2,\n",
       "        '05/19/24-161842', 0.1, 32, 857.2175419330597, 'relu', 60, 3],\n",
       "       [30, '05/19/24-153502', 'sigmoid', 'adam', 2, 2,\n",
       "        '05/19/24-155002', 0.1, 32, 900.6926345825195, 'relu', 60, 4],\n",
       "       [50, '05/19/24-151958', 'sigmoid', 'adam', 2, 2,\n",
       "        '05/19/24-153458', 0.2, 32, 899.7045247554779, 'relu', 50, 5],\n",
       "       [30, '05/19/24-130727', 'sigmoid', 'adam', 2, 2,\n",
       "        '05/19/24-131936', 0.2, 32, 728.4898405075073, 'relu', 40, 6],\n",
       "       [40, '05/19/24-144914', 'sigmoid', 'adam', 2, 2,\n",
       "        '05/19/24-150447', 0.2, 32, 932.8495242595673, 'relu', 50, 7],\n",
       "       [40, '05/19/24-133200', 'sigmoid', 'adam', 2, 2,\n",
       "        '05/19/24-134403', 0.2, 32, 722.5406391620636, 'relu', 40, 8],\n",
       "       [40, '05/19/24-131942', 'sigmoid', 'adam', 2, 2,\n",
       "        '05/19/24-133156', 0.1, 32, 733.7402567863464, 'relu', 40, 9]],\n",
       "      dtype=object)"
      ]
     },
     "execution_count": 58,
     "metadata": {},
     "output_type": "execute_result"
    }
   ],
   "source": [
    "analyze_object.best_params('val_accuracy', ['accuracy', 'loss', 'val_loss'])"
   ]
  },
  {
   "cell_type": "code",
   "execution_count": 59,
   "metadata": {
    "id": "KBlqpfIhG2xq"
   },
   "outputs": [
    {
     "name": "stdout",
     "output_type": "stream",
     "text": [
      "Matplotlib Runtime Error. Plots will not work.\n"
     ]
    },
    {
     "data": {
      "image/png": "[encoded data removed]",
      "text/plain": [
       "<Figure size 864x475.2 with 1 Axes>"
      ]
     },
     "metadata": {},
     "output_type": "display_data"
    }
   ],
   "source": [
    "analyze_object.plot_line('val_accuracy')"
   ]
  },
  {
   "cell_type": "code",
   "execution_count": 60,
   "metadata": {
    "id": "mQ8Xr0tiG4ry"
   },
   "outputs": [
    {
     "name": "stdout",
     "output_type": "stream",
     "text": [
      "Matplotlib Runtime Error. Plots will not work.\n"
     ]
    },
    {
     "data": {
      "image/png": "[encoded data removed]",
      "text/plain": [
       "<Figure size 864x475.2 with 1 Axes>"
      ]
     },
     "metadata": {},
     "output_type": "display_data"
    }
   ],
   "source": [
    "analyze_object.plot_line('accuracy')"
   ]
  },
  {
   "cell_type": "markdown",
   "metadata": {
    "id": "pV4ierVz7J02"
   },
   "source": [
    "#### Talos Grid Search  for LSTM-CNN Model"
   ]
  },
  {
   "cell_type": "code",
   "execution_count": 61,
   "metadata": {
    "id": "jH7jcbAs7MXv"
   },
   "outputs": [],
   "source": [
    "def toxic_classifier(x_train,y_train,x_val,y_val,params):\n",
    "\n",
    "  inp=Input(shape=(maxpadlen, ),dtype='int32')\n",
    "\n",
    "  embedding_layer = Embedding(len(word_index) + 1,\n",
    "                           embedding_dim_fasttext,\n",
    "                           weights = [embedding_matrix_fasttext],\n",
    "                           input_length = maxpadlen,\n",
    "                           trainable=False,\n",
    "                           name = 'embeddings')\n",
    "  embedded_sequences = embedding_layer(inp)\n",
    "\n",
    "  x = LSTM(params['output_count_lstm'], return_sequences=True,name='lstm_layer')(embedded_sequences)\n",
    "\n",
    "  x = Conv1D(filters=params['filters'], kernel_size=params['kernel_size'], padding='same', activation='relu', kernel_initializer='he_uniform')(x)\n",
    "\n",
    "  x = MaxPooling1D(params['pool_size'])(x)\n",
    "  \n",
    "  x = GlobalMaxPool1D()(x)\n",
    "  \n",
    "  x = BatchNormalization()(x)\n",
    "  \n",
    "  x = Dense(params['output_1_count_dense'], activation=params['activation'], kernel_initializer='he_uniform')(x)\n",
    "  \n",
    "  x = Dropout(params['dropout'])(x)\n",
    "\n",
    "  x = Dense(params['output_2_count_dense'], activation=params['activation'], kernel_initializer='he_uniform')(x)\n",
    "  \n",
    "  x = Dropout(params['dropout'])(x)\n",
    "  \n",
    "  preds = Dense(6, activation=params['last_activation'], kernel_initializer='glorot_uniform')(x)\n",
    "\n",
    "  model = Model(inputs=inp, outputs=preds)\n",
    "\n",
    "  model.compile(loss=params['loss'], optimizer=params['optimizer'], metrics=['accuracy'])\n",
    "\n",
    "  model_info=model.fit(x_train,y_train, epochs=params['epochs'], batch_size=params['batch_size'],  validation_data=(x_val, y_val))\n",
    "\n",
    "  return model_info, model"
   ]
  },
  {
   "cell_type": "code",
   "execution_count": 62,
   "metadata": {
    "id": "-Ru7Tkq67QoO"
   },
   "outputs": [],
   "source": [
    "p={\n",
    "    'output_count_lstm': [50,60],\n",
    "    'output_1_count_dense': [40,50],\n",
    "    'output_2_count_dense': [30,40],\n",
    "    'filters' : [64],\n",
    "    'kernel_size' : [3],\n",
    "    'batch_size': [32],\n",
    "    'pool_size': [3],\n",
    "    'epochs':[2],\n",
    "    'optimizer':['adam'],\n",
    "    'activation':['relu'],\n",
    "    'last_activation': ['sigmoid'],\n",
    "    'dropout':[0.1,0.2],\n",
    "    'loss': ['binary_crossentropy']   \n",
    "}"
   ]
  },
  {
   "cell_type": "code",
   "execution_count": 63,
   "metadata": {
    "id": "9l3M27FU7QiG"
   },
   "outputs": [
    {
     "name": "stderr",
     "output_type": "stream",
     "text": [
      "\r",
      "  0%|                                                                                           | 0/16 [00:00<?, ?it/s]"
     ]
    },
    {
     "name": "stdout",
     "output_type": "stream",
     "text": [
      "{'output_count_lstm': 50, 'output_1_count_dense': 40, 'output_2_count_dense': 30, 'filters': 64, 'kernel_size': 3, 'batch_size': 32, 'pool_size': 3, 'epochs': 2, 'optimizer': 'adam', 'activation': 'relu', 'last_activation': 'sigmoid', 'dropout': 0.1, 'loss': 'binary_crossentropy'}\n",
      "Epoch 1/2\n",
      "3990/3990 [==============================] - 507s 127ms/step - loss: 0.0671 - accuracy: 0.9477 - val_loss: 0.0546 - val_accuracy: 0.9939\n",
      "Epoch 2/2\n",
      "3990/3990 [==============================] - 482s 121ms/step - loss: 0.0528 - accuracy: 0.9909 - val_loss: 0.0526 - val_accuracy: 0.9892\n"
     ]
    },
    {
     "name": "stderr",
     "output_type": "stream",
     "text": [
      "\r",
      "  6%|█████                                                                           | 1/16 [16:37<4:09:26, 997.74s/it]"
     ]
    },
    {
     "name": "stdout",
     "output_type": "stream",
     "text": [
      "{'output_count_lstm': 50, 'output_1_count_dense': 40, 'output_2_count_dense': 30, 'filters': 64, 'kernel_size': 3, 'batch_size': 32, 'pool_size': 3, 'epochs': 2, 'optimizer': 'adam', 'activation': 'relu', 'last_activation': 'sigmoid', 'dropout': 0.2, 'loss': 'binary_crossentropy'}\n",
      "Epoch 1/2\n",
      "3990/3990 [==============================] - 495s 124ms/step - loss: 0.0706 - accuracy: 0.9225 - val_loss: 0.0577 - val_accuracy: 0.9939\n",
      "Epoch 2/2\n",
      "3990/3990 [==============================] - 470s 118ms/step - loss: 0.0544 - accuracy: 0.9927 - val_loss: 0.0506 - val_accuracy: 0.9939\n"
     ]
    },
    {
     "name": "stderr",
     "output_type": "stream",
     "text": [
      "\r",
      " 12%|██████████                                                                      | 2/16 [32:47<3:48:59, 981.40s/it]"
     ]
    },
    {
     "name": "stdout",
     "output_type": "stream",
     "text": [
      "{'output_count_lstm': 50, 'output_1_count_dense': 40, 'output_2_count_dense': 40, 'filters': 64, 'kernel_size': 3, 'batch_size': 32, 'pool_size': 3, 'epochs': 2, 'optimizer': 'adam', 'activation': 'relu', 'last_activation': 'sigmoid', 'dropout': 0.1, 'loss': 'binary_crossentropy'}\n",
      "Epoch 1/2\n",
      "3990/3990 [==============================] - 513s 128ms/step - loss: 0.0662 - accuracy: 0.9288 - val_loss: 0.0522 - val_accuracy: 0.9939\n",
      "Epoch 2/2\n",
      "3990/3990 [==============================] - 498s 125ms/step - loss: 0.0522 - accuracy: 0.9874 - val_loss: 0.0494 - val_accuracy: 0.9934\n"
     ]
    },
    {
     "name": "stderr",
     "output_type": "stream",
     "text": [
      "\r",
      " 19%|███████████████                                                                 | 3/16 [49:44<3:36:09, 997.68s/it]"
     ]
    },
    {
     "name": "stdout",
     "output_type": "stream",
     "text": [
      "{'output_count_lstm': 50, 'output_1_count_dense': 40, 'output_2_count_dense': 40, 'filters': 64, 'kernel_size': 3, 'batch_size': 32, 'pool_size': 3, 'epochs': 2, 'optimizer': 'adam', 'activation': 'relu', 'last_activation': 'sigmoid', 'dropout': 0.2, 'loss': 'binary_crossentropy'}\n",
      "Epoch 1/2\n",
      "3990/3990 [==============================] - 504s 126ms/step - loss: 0.0702 - accuracy: 0.9099 - val_loss: 0.0526 - val_accuracy: 0.9939\n",
      "Epoch 2/2\n",
      "3990/3990 [==============================] - 504s 126ms/step - loss: 0.0546 - accuracy: 0.9861 - val_loss: 0.0527 - val_accuracy: 0.9939\n"
     ]
    },
    {
     "name": "stderr",
     "output_type": "stream",
     "text": [
      "\r",
      " 25%|███████████████████▎                                                         | 4/16 [1:06:37<3:20:43, 1003.60s/it]"
     ]
    },
    {
     "name": "stdout",
     "output_type": "stream",
     "text": [
      "{'output_count_lstm': 50, 'output_1_count_dense': 50, 'output_2_count_dense': 30, 'filters': 64, 'kernel_size': 3, 'batch_size': 32, 'pool_size': 3, 'epochs': 2, 'optimizer': 'adam', 'activation': 'relu', 'last_activation': 'sigmoid', 'dropout': 0.1, 'loss': 'binary_crossentropy'}\n",
      "Epoch 1/2\n",
      "3990/3990 [==============================] - 528s 132ms/step - loss: 0.0657 - accuracy: 0.9032 - val_loss: 0.0525 - val_accuracy: 0.9924\n",
      "Epoch 2/2\n",
      "3990/3990 [==============================] - 516s 129ms/step - loss: 0.0522 - accuracy: 0.9829 - val_loss: 0.0502 - val_accuracy: 0.9924\n"
     ]
    },
    {
     "name": "stderr",
     "output_type": "stream",
     "text": [
      "\r",
      " 31%|████████████████████████                                                     | 5/16 [1:24:04<3:06:51, 1019.22s/it]"
     ]
    },
    {
     "name": "stdout",
     "output_type": "stream",
     "text": [
      "{'output_count_lstm': 50, 'output_1_count_dense': 50, 'output_2_count_dense': 30, 'filters': 64, 'kernel_size': 3, 'batch_size': 32, 'pool_size': 3, 'epochs': 2, 'optimizer': 'adam', 'activation': 'relu', 'last_activation': 'sigmoid', 'dropout': 0.2, 'loss': 'binary_crossentropy'}\n",
      "Epoch 1/2\n",
      "3990/3990 [==============================] - 489s 122ms/step - loss: 0.0743 - accuracy: 0.8942 - val_loss: 0.0601 - val_accuracy: 0.9939\n",
      "Epoch 2/2\n",
      "3990/3990 [==============================] - 496s 124ms/step - loss: 0.0547 - accuracy: 0.9768 - val_loss: 0.0508 - val_accuracy: 0.9939\n"
     ]
    },
    {
     "name": "stderr",
     "output_type": "stream",
     "text": [
      "\r",
      " 38%|████████████████████████████▉                                                | 6/16 [1:40:35<2:48:16, 1009.66s/it]"
     ]
    },
    {
     "name": "stdout",
     "output_type": "stream",
     "text": [
      "{'output_count_lstm': 50, 'output_1_count_dense': 50, 'output_2_count_dense': 40, 'filters': 64, 'kernel_size': 3, 'batch_size': 32, 'pool_size': 3, 'epochs': 2, 'optimizer': 'adam', 'activation': 'relu', 'last_activation': 'sigmoid', 'dropout': 0.1, 'loss': 'binary_crossentropy'}\n",
      "Epoch 1/2\n",
      "3990/3990 [==============================] - 517s 129ms/step - loss: 0.0632 - accuracy: 0.9177 - val_loss: 0.0541 - val_accuracy: 0.9939\n",
      "Epoch 2/2\n",
      "3990/3990 [==============================] - 513s 129ms/step - loss: 0.0521 - accuracy: 0.9774 - val_loss: 0.0524 - val_accuracy: 0.9934\n"
     ]
    },
    {
     "name": "stderr",
     "output_type": "stream",
     "text": [
      "\r",
      " 44%|█████████████████████████████████▋                                           | 7/16 [1:57:52<2:32:48, 1018.67s/it]"
     ]
    },
    {
     "name": "stdout",
     "output_type": "stream",
     "text": [
      "{'output_count_lstm': 50, 'output_1_count_dense': 50, 'output_2_count_dense': 40, 'filters': 64, 'kernel_size': 3, 'batch_size': 32, 'pool_size': 3, 'epochs': 2, 'optimizer': 'adam', 'activation': 'relu', 'last_activation': 'sigmoid', 'dropout': 0.2, 'loss': 'binary_crossentropy'}\n",
      "Epoch 1/2\n",
      "3990/3990 [==============================] - 546s 136ms/step - loss: 0.0676 - accuracy: 0.9198 - val_loss: 0.0524 - val_accuracy: 0.9939\n",
      "Epoch 2/2\n",
      "3990/3990 [==============================] - 553s 138ms/step - loss: 0.0540 - accuracy: 0.9872 - val_loss: 0.0503 - val_accuracy: 0.9939\n"
     ]
    },
    {
     "name": "stderr",
     "output_type": "stream",
     "text": [
      "\r",
      " 50%|██████████████████████████████████████▌                                      | 8/16 [2:16:17<2:19:28, 1046.05s/it]"
     ]
    },
    {
     "name": "stdout",
     "output_type": "stream",
     "text": [
      "{'output_count_lstm': 60, 'output_1_count_dense': 40, 'output_2_count_dense': 30, 'filters': 64, 'kernel_size': 3, 'batch_size': 32, 'pool_size': 3, 'epochs': 2, 'optimizer': 'adam', 'activation': 'relu', 'last_activation': 'sigmoid', 'dropout': 0.1, 'loss': 'binary_crossentropy'}\n",
      "Epoch 1/2\n",
      "3990/3990 [==============================] - 541s 135ms/step - loss: 0.0680 - accuracy: 0.9340 - val_loss: 0.0534 - val_accuracy: 0.9939\n",
      "Epoch 2/2\n",
      "3990/3990 [==============================] - 551s 138ms/step - loss: 0.0532 - accuracy: 0.9752 - val_loss: 0.0508 - val_accuracy: 0.9939\n"
     ]
    },
    {
     "name": "stderr",
     "output_type": "stream",
     "text": [
      "\r",
      " 56%|███████████████████████████████████████████▎                                 | 9/16 [2:34:40<2:04:06, 1063.81s/it]"
     ]
    },
    {
     "name": "stdout",
     "output_type": "stream",
     "text": [
      "{'output_count_lstm': 60, 'output_1_count_dense': 40, 'output_2_count_dense': 30, 'filters': 64, 'kernel_size': 3, 'batch_size': 32, 'pool_size': 3, 'epochs': 2, 'optimizer': 'adam', 'activation': 'relu', 'last_activation': 'sigmoid', 'dropout': 0.2, 'loss': 'binary_crossentropy'}\n",
      "Epoch 1/2\n",
      "3990/3990 [==============================] - 631s 157ms/step - loss: 0.0691 - accuracy: 0.9119 - val_loss: 0.0537 - val_accuracy: 0.9939\n",
      "Epoch 2/2\n",
      "3990/3990 [==============================] - 578s 145ms/step - loss: 0.0549 - accuracy: 0.9760 - val_loss: 0.0545 - val_accuracy: 0.9939\n"
     ]
    },
    {
     "name": "stderr",
     "output_type": "stream",
     "text": [
      "\r",
      " 62%|███████████████████████████████████████████████▌                            | 10/16 [2:55:01<1:51:14, 1112.36s/it]"
     ]
    },
    {
     "name": "stdout",
     "output_type": "stream",
     "text": [
      "{'output_count_lstm': 60, 'output_1_count_dense': 40, 'output_2_count_dense': 40, 'filters': 64, 'kernel_size': 3, 'batch_size': 32, 'pool_size': 3, 'epochs': 2, 'optimizer': 'adam', 'activation': 'relu', 'last_activation': 'sigmoid', 'dropout': 0.1, 'loss': 'binary_crossentropy'}\n",
      "Epoch 1/2\n",
      "3990/3990 [==============================] - 581s 145ms/step - loss: 0.0664 - accuracy: 0.9140 - val_loss: 0.0601 - val_accuracy: 0.9939\n",
      "Epoch 2/2\n",
      "3990/3990 [==============================] - 565s 142ms/step - loss: 0.0528 - accuracy: 0.9713 - val_loss: 0.0503 - val_accuracy: 0.9939\n"
     ]
    },
    {
     "name": "stderr",
     "output_type": "stream",
     "text": [
      "\r",
      " 69%|████████████████████████████████████████████████████▎                       | 11/16 [3:14:14<1:33:44, 1124.91s/it]"
     ]
    },
    {
     "name": "stdout",
     "output_type": "stream",
     "text": [
      "{'output_count_lstm': 60, 'output_1_count_dense': 40, 'output_2_count_dense': 40, 'filters': 64, 'kernel_size': 3, 'batch_size': 32, 'pool_size': 3, 'epochs': 2, 'optimizer': 'adam', 'activation': 'relu', 'last_activation': 'sigmoid', 'dropout': 0.2, 'loss': 'binary_crossentropy'}\n",
      "Epoch 1/2\n",
      "3990/3990 [==============================] - 550s 137ms/step - loss: 0.0718 - accuracy: 0.8801 - val_loss: 0.0532 - val_accuracy: 0.9939\n",
      "Epoch 2/2\n",
      "3990/3990 [==============================] - 559s 140ms/step - loss: 0.0547 - accuracy: 0.9772 - val_loss: 0.0511 - val_accuracy: 0.9939\n"
     ]
    },
    {
     "name": "stderr",
     "output_type": "stream",
     "text": [
      "\r",
      " 75%|█████████████████████████████████████████████████████████                   | 12/16 [3:32:49<1:14:46, 1121.71s/it]"
     ]
    },
    {
     "name": "stdout",
     "output_type": "stream",
     "text": [
      "{'output_count_lstm': 60, 'output_1_count_dense': 50, 'output_2_count_dense': 30, 'filters': 64, 'kernel_size': 3, 'batch_size': 32, 'pool_size': 3, 'epochs': 2, 'optimizer': 'adam', 'activation': 'relu', 'last_activation': 'sigmoid', 'dropout': 0.1, 'loss': 'binary_crossentropy'}\n",
      "Epoch 1/2\n",
      "3990/3990 [==============================] - 572s 143ms/step - loss: 0.0640 - accuracy: 0.9520 - val_loss: 0.0669 - val_accuracy: 0.9939\n",
      "Epoch 2/2\n",
      "3990/3990 [==============================] - 568s 142ms/step - loss: 0.0525 - accuracy: 0.9895 - val_loss: 0.0493 - val_accuracy: 0.9939\n"
     ]
    },
    {
     "name": "stderr",
     "output_type": "stream",
     "text": [
      "\r",
      " 81%|███████████████████████████████████████████████████████████████▍              | 13/16 [3:51:53<56:25, 1128.65s/it]"
     ]
    },
    {
     "name": "stdout",
     "output_type": "stream",
     "text": [
      "{'output_count_lstm': 60, 'output_1_count_dense': 50, 'output_2_count_dense': 30, 'filters': 64, 'kernel_size': 3, 'batch_size': 32, 'pool_size': 3, 'epochs': 2, 'optimizer': 'adam', 'activation': 'relu', 'last_activation': 'sigmoid', 'dropout': 0.2, 'loss': 'binary_crossentropy'}\n",
      "Epoch 1/2\n",
      "3990/3990 [==============================] - 602s 150ms/step - loss: 0.0700 - accuracy: 0.8944 - val_loss: 0.0593 - val_accuracy: 0.9939\n",
      "Epoch 2/2\n",
      "3990/3990 [==============================] - 618s 155ms/step - loss: 0.0548 - accuracy: 0.9880 - val_loss: 0.0499 - val_accuracy: 0.9937\n"
     ]
    },
    {
     "name": "stderr",
     "output_type": "stream",
     "text": [
      "\r",
      " 88%|████████████████████████████████████████████████████████████████████▎         | 14/16 [4:12:31<38:43, 1161.75s/it]"
     ]
    },
    {
     "name": "stdout",
     "output_type": "stream",
     "text": [
      "{'output_count_lstm': 60, 'output_1_count_dense': 50, 'output_2_count_dense': 40, 'filters': 64, 'kernel_size': 3, 'batch_size': 32, 'pool_size': 3, 'epochs': 2, 'optimizer': 'adam', 'activation': 'relu', 'last_activation': 'sigmoid', 'dropout': 0.1, 'loss': 'binary_crossentropy'}\n",
      "Epoch 1/2\n",
      "3990/3990 [==============================] - 651s 162ms/step - loss: 0.0664 - accuracy: 0.8673 - val_loss: 0.0567 - val_accuracy: 0.9936\n",
      "Epoch 2/2\n",
      "3990/3990 [==============================] - 617s 155ms/step - loss: 0.0519 - accuracy: 0.9562 - val_loss: 0.0515 - val_accuracy: 0.9927\n"
     ]
    },
    {
     "name": "stderr",
     "output_type": "stream",
     "text": [
      "\r",
      " 94%|█████████████████████████████████████████████████████████████████████████▏    | 15/16 [4:33:52<19:57, 1197.66s/it]"
     ]
    },
    {
     "name": "stdout",
     "output_type": "stream",
     "text": [
      "{'output_count_lstm': 60, 'output_1_count_dense': 50, 'output_2_count_dense': 40, 'filters': 64, 'kernel_size': 3, 'batch_size': 32, 'pool_size': 3, 'epochs': 2, 'optimizer': 'adam', 'activation': 'relu', 'last_activation': 'sigmoid', 'dropout': 0.2, 'loss': 'binary_crossentropy'}\n",
      "Epoch 1/2\n",
      "3990/3990 [==============================] - 632s 158ms/step - loss: 0.0682 - accuracy: 0.8842 - val_loss: 0.0583 - val_accuracy: 0.9939\n",
      "Epoch 2/2\n",
      "3990/3990 [==============================] - 632s 158ms/step - loss: 0.0540 - accuracy: 0.9850 - val_loss: 0.0511 - val_accuracy: 0.9938\n"
     ]
    },
    {
     "name": "stderr",
     "output_type": "stream",
     "text": [
      "100%|██████████████████████████████████████████████████████████████████████████████| 16/16 [4:55:13<00:00, 1107.07s/it]\n"
     ]
    }
   ],
   "source": [
    "scan_results = talos.Scan(x=x_train,\n",
    "               y=y_train,\n",
    "               x_val=x_val,\n",
    "               y_val=y_val,\n",
    "               model=toxic_classifier,\n",
    "               params=p,\n",
    "               experiment_name='tcc',\n",
    "               print_params=True)"
   ]
  },
  {
   "cell_type": "code",
   "execution_count": 64,
   "metadata": {
    "id": "eQU9iqMM_IT2"
   },
   "outputs": [
    {
     "data": {
      "text/plain": [
       "1"
      ]
     },
     "execution_count": 64,
     "metadata": {},
     "output_type": "execute_result"
    }
   ],
   "source": [
    "model_id = scan_results.data['val_accuracy'].astype('float').argmax()\n",
    "model_id"
   ]
  },
  {
   "cell_type": "code",
   "execution_count": 65,
   "metadata": {
    "id": "8OiN965L_JOz"
   },
   "outputs": [
    {
     "data": {
      "text/html": [
       "<div>\n",
       "<style scoped>\n",
       "    .dataframe tbody tr th:only-of-type {\n",
       "        vertical-align: middle;\n",
       "    }\n",
       "\n",
       "    .dataframe tbody tr th {\n",
       "        vertical-align: top;\n",
       "    }\n",
       "\n",
       "    .dataframe thead th {\n",
       "        text-align: right;\n",
       "    }\n",
       "</style>\n",
       "<table border=\"1\" class=\"dataframe\">\n",
       "  <thead>\n",
       "    <tr style=\"text-align: right;\">\n",
       "      <th></th>\n",
       "      <th>start</th>\n",
       "      <th>end</th>\n",
       "      <th>duration</th>\n",
       "      <th>round_epochs</th>\n",
       "      <th>loss</th>\n",
       "      <th>accuracy</th>\n",
       "      <th>val_loss</th>\n",
       "      <th>val_accuracy</th>\n",
       "      <th>output_count_lstm</th>\n",
       "      <th>output_1_count_dense</th>\n",
       "      <th>...</th>\n",
       "      <th>filters</th>\n",
       "      <th>kernel_size</th>\n",
       "      <th>batch_size</th>\n",
       "      <th>pool_size</th>\n",
       "      <th>epochs</th>\n",
       "      <th>optimizer</th>\n",
       "      <th>activation</th>\n",
       "      <th>last_activation</th>\n",
       "      <th>dropout</th>\n",
       "      <th>loss</th>\n",
       "    </tr>\n",
       "  </thead>\n",
       "  <tbody>\n",
       "    <tr>\n",
       "      <th>8</th>\n",
       "      <td>05/19/24-191740</td>\n",
       "      <td>05/19/24-193555</td>\n",
       "      <td>1095.147341</td>\n",
       "      <td>2</td>\n",
       "      <td>0.053245</td>\n",
       "      <td>0.97516</td>\n",
       "      <td>0.050784</td>\n",
       "      <td>0.99389</td>\n",
       "      <td>60</td>\n",
       "      <td>40</td>\n",
       "      <td>...</td>\n",
       "      <td>64</td>\n",
       "      <td>3</td>\n",
       "      <td>32</td>\n",
       "      <td>3</td>\n",
       "      <td>2</td>\n",
       "      <td>adam</td>\n",
       "      <td>relu</td>\n",
       "      <td>sigmoid</td>\n",
       "      <td>0.1</td>\n",
       "      <td>binary_crossentropy</td>\n",
       "    </tr>\n",
       "  </tbody>\n",
       "</table>\n",
       "<p>1 rows × 21 columns</p>\n",
       "</div>"
      ],
      "text/plain": [
       "             start              end     duration  round_epochs      loss  \\\n",
       "8  05/19/24-191740  05/19/24-193555  1095.147341             2  0.053245   \n",
       "\n",
       "   accuracy  val_loss  val_accuracy  output_count_lstm  output_1_count_dense  \\\n",
       "8   0.97516  0.050784       0.99389                 60                    40   \n",
       "\n",
       "   ...  filters  kernel_size  batch_size  pool_size  epochs  optimizer  \\\n",
       "8  ...       64            3          32          3       2       adam   \n",
       "\n",
       "  activation last_activation dropout                 loss  \n",
       "8       relu         sigmoid     0.1  binary_crossentropy  \n",
       "\n",
       "[1 rows x 21 columns]"
      ]
     },
     "execution_count": 65,
     "metadata": {},
     "output_type": "execute_result"
    }
   ],
   "source": [
    "scan_results.data[8:9]"
   ]
  },
  {
   "cell_type": "code",
   "execution_count": 66,
   "metadata": {
    "id": "xbIfeqlH_JK-"
   },
   "outputs": [],
   "source": [
    "analyze_object = talos.Analyze(scan_results)"
   ]
  },
  {
   "cell_type": "code",
   "execution_count": 67,
   "metadata": {
    "id": "oMfSKDje_JHw"
   },
   "outputs": [
    {
     "data": {
      "text/plain": [
       "array([['05/19/24-171800', 64, 'sigmoid', 3, 40, 'adam', 3, 2,\n",
       "        '05/19/24-173408', 2, 30, 0.2, 32, 968.3543014526367, 'relu', 50,\n",
       "        0],\n",
       "       ['05/19/24-175107', 64, 'sigmoid', 3, 40, 'adam', 3, 2,\n",
       "        '05/19/24-180758', 2, 40, 0.2, 32, 1010.4388053417206, 'relu',\n",
       "        50, 1],\n",
       "       ['05/19/24-182527', 64, 'sigmoid', 3, 50, 'adam', 3, 2,\n",
       "        '05/19/24-184155', 2, 30, 0.2, 32, 987.8820707798004, 'relu', 50,\n",
       "        2],\n",
       "       ['05/19/24-193603', 64, 'sigmoid', 3, 40, 'adam', 3, 2,\n",
       "        '05/19/24-195616', 2, 30, 0.2, 32, 1213.4426565170288, 'relu',\n",
       "        60, 3],\n",
       "       ['05/19/24-195624', 64, 'sigmoid', 3, 40, 'adam', 3, 2,\n",
       "        '05/19/24-201533', 2, 40, 0.1, 32, 1149.5333361625671, 'relu',\n",
       "        60, 4],\n",
       "       ['05/19/24-201537', 64, 'sigmoid', 3, 40, 'adam', 3, 2,\n",
       "        '05/19/24-203411', 2, 40, 0.2, 32, 1113.514033317566, 'relu', 60,\n",
       "        5],\n",
       "       ['05/19/24-185915', 64, 'sigmoid', 3, 50, 'adam', 3, 2,\n",
       "        '05/19/24-191737', 2, 40, 0.2, 32, 1101.659239768982, 'relu', 50,\n",
       "        6],\n",
       "       ['05/19/24-191740', 64, 'sigmoid', 3, 40, 'adam', 3, 2,\n",
       "        '05/19/24-193555', 2, 30, 0.1, 32, 1095.1473407745361, 'relu',\n",
       "        60, 7],\n",
       "       ['05/19/24-203411', 64, 'sigmoid', 3, 50, 'adam', 3, 2,\n",
       "        '05/19/24-205312', 2, 30, 0.1, 32, 1140.4743103981018, 'relu',\n",
       "        60, 8],\n",
       "       ['05/19/24-213515', 64, 'sigmoid', 3, 50, 'adam', 3, 2,\n",
       "        '05/19/24-215628', 2, 40, 0.2, 32, 1272.7703547477722, 'relu',\n",
       "        60, 9]], dtype=object)"
      ]
     },
     "execution_count": 67,
     "metadata": {},
     "output_type": "execute_result"
    }
   ],
   "source": [
    "analyze_object.best_params('val_accuracy', ['accuracy', 'loss', 'val_loss'])"
   ]
  },
  {
   "cell_type": "code",
   "execution_count": 68,
   "metadata": {
    "id": "K40v1m_N_Rgo"
   },
   "outputs": [
    {
     "name": "stdout",
     "output_type": "stream",
     "text": [
      "Matplotlib Runtime Error. Plots will not work.\n"
     ]
    },
    {
     "data": {
      "image/png": "[encoded data removed]",
      "text/plain": [
       "<Figure size 864x475.2 with 1 Axes>"
      ]
     },
     "metadata": {},
     "output_type": "display_data"
    }
   ],
   "source": [
    "analyze_object.plot_line('val_accuracy')"
   ]
  },
  {
   "cell_type": "code",
   "execution_count": 69,
   "metadata": {
    "id": "z50AydTs_RdW"
   },
   "outputs": [
    {
     "name": "stdout",
     "output_type": "stream",
     "text": [
      "Matplotlib Runtime Error. Plots will not work.\n"
     ]
    },
    {
     "data": {
      "image/png": "[encoded data removed]",
      "text/plain": [
       "<Figure size 864x475.2 with 1 Axes>"
      ]
     },
     "metadata": {},
     "output_type": "display_data"
    }
   ],
   "source": [
    "analyze_object.plot_line('accuracy')"
   ]
  },
  {
   "cell_type": "markdown",
   "metadata": {
    "id": "sHrPeYI_Giky"
   },
   "source": [
    "#### Training Model with Best Parameters"
   ]
  },
  {
   "cell_type": "markdown",
   "metadata": {
    "id": "lIRoKKp9mzQz"
   },
   "source": [
    "LSTM"
   ]
  },
  {
   "cell_type": "code",
   "execution_count": 70,
   "metadata": {
    "id": "9x04BXTCCdsV"
   },
   "outputs": [],
   "source": [
    "inp=Input(shape=(maxpadlen, ),dtype='int32')"
   ]
  },
  {
   "cell_type": "code",
   "execution_count": 71,
   "metadata": {
    "id": "U-fPTQKHFF61"
   },
   "outputs": [],
   "source": [
    "embedding_layer = Embedding(len(word_index) + 1,\n",
    "                           embedding_dim_fasttext,\n",
    "                           weights = [embedding_matrix_fasttext],\n",
    "                           input_length = maxpadlen,\n",
    "                           trainable=False,\n",
    "                           name = 'embeddings')\n",
    "embedded_sequences = embedding_layer(inp)"
   ]
  },
  {
   "cell_type": "code",
   "execution_count": 72,
   "metadata": {
    "id": "mAF1Ui22FmHX"
   },
   "outputs": [],
   "source": [
    "x = LSTM(40, return_sequences=True,name='lstm_layer')(embedded_sequences)\n",
    "x = GlobalMaxPool1D()(x)\n",
    "x = Dropout(0.1)(x)\n",
    "x = Dense(30, activation=\"relu\", kernel_initializer='he_uniform')(x)\n",
    "x = Dropout(0.1)(x)\n",
    "preds = Dense(6, activation=\"sigmoid\", kernel_initializer='glorot_uniform')(x)"
   ]
  },
  {
   "cell_type": "code",
   "execution_count": 73,
   "metadata": {
    "id": "kigFyK4cHHrv"
   },
   "outputs": [],
   "source": [
    "model_1 = Model(inputs=inp, outputs=preds)\n",
    "model_1.compile(loss='binary_crossentropy',\n",
    "                  optimizer='adam',\n",
    "                  metrics=['accuracy'])"
   ]
  },
  {
   "cell_type": "code",
   "execution_count": 74,
   "metadata": {
    "id": "e_qJGa25HVxi"
   },
   "outputs": [
    {
     "name": "stdout",
     "output_type": "stream",
     "text": [
      "Model: \"model\"\n",
      "_________________________________________________________________\n",
      " Layer (type)                Output Shape              Param #   \n",
      "=================================================================\n",
      " input_1 (InputLayer)        [(None, 200)]             0         \n",
      "                                                                 \n",
      " embeddings (Embedding)      (None, 200, 300)          44675400  \n",
      "                                                                 \n",
      " lstm_layer (LSTM)           (None, 200, 40)           54560     \n",
      "                                                                 \n",
      " global_max_pooling1d (Glob  (None, 40)                0         \n",
      " alMaxPooling1D)                                                 \n",
      "                                                                 \n",
      " dropout (Dropout)           (None, 40)                0         \n",
      "                                                                 \n",
      " dense (Dense)               (None, 30)                1230      \n",
      "                                                                 \n",
      " dropout_1 (Dropout)         (None, 30)                0         \n",
      "                                                                 \n",
      " dense_1 (Dense)             (None, 6)                 186       \n",
      "                                                                 \n",
      "=================================================================\n",
      "Total params: 44731376 (170.64 MB)\n",
      "Trainable params: 55976 (218.66 KB)\n",
      "Non-trainable params: 44675400 (170.42 MB)\n",
      "_________________________________________________________________\n"
     ]
    }
   ],
   "source": [
    "model_1.summary()"
   ]
  },
  {
   "cell_type": "code",
   "execution_count": 75,
   "metadata": {
    "id": "iSqW0thULSae"
   },
   "outputs": [
    {
     "name": "stdout",
     "output_type": "stream",
     "text": [
      "Epoch 1/2\n",
      "3990/3990 [==============================] - 516s 128ms/step - loss: 0.0634 - accuracy: 0.9439 - val_loss: 0.0506 - val_accuracy: 0.9939\n",
      "Epoch 2/2\n",
      "3990/3990 [==============================] - 493s 124ms/step - loss: 0.0496 - accuracy: 0.9911 - val_loss: 0.0476 - val_accuracy: 0.9939\n"
     ]
    }
   ],
   "source": [
    "model_info_1=model_1.fit(x_train,y_train, epochs=2, batch_size=32,  validation_data=(x_val, y_val))"
   ]
  },
  {
   "cell_type": "markdown",
   "metadata": {
    "id": "q63N5a-Rm0zp"
   },
   "source": [
    "LSTM-CNN"
   ]
  },
  {
   "cell_type": "code",
   "execution_count": 76,
   "metadata": {
    "id": "Dq7eVkGSLKhm"
   },
   "outputs": [],
   "source": [
    "inp=Input(shape=(maxpadlen, ),dtype='int32')"
   ]
  },
  {
   "cell_type": "code",
   "execution_count": 77,
   "metadata": {
    "id": "-QLeM4ieLLEL"
   },
   "outputs": [],
   "source": [
    "embedding_layer = Embedding(len(word_index) + 1,\n",
    "                           embedding_dim_fasttext,\n",
    "                           weights = [embedding_matrix_fasttext],\n",
    "                           input_length = maxpadlen,\n",
    "                           trainable=False,\n",
    "                           name = 'embeddings')\n",
    "embedded_sequences = embedding_layer(inp)"
   ]
  },
  {
   "cell_type": "code",
   "execution_count": 78,
   "metadata": {
    "id": "hKK_321BdT-o"
   },
   "outputs": [],
   "source": [
    "x = LSTM(50, return_sequences=True,name='lstm_layer')(embedded_sequences)\n",
    "x = Conv1D(filters=64, kernel_size=3, padding='same', activation='relu', kernel_initializer='he_uniform')(x)\n",
    "x = MaxPooling1D(3)(x)\n",
    "x = GlobalMaxPool1D()(x)\n",
    "x = BatchNormalization()(x)\n",
    "x = Dense(40, activation=\"relu\", kernel_initializer='he_uniform')(x)\n",
    "x = Dropout(0.2)(x)\n",
    "x = Dense(30, activation=\"relu\", kernel_initializer='he_uniform')(x)\n",
    "x = Dropout(0.2)(x)\n",
    "preds = Dense(6, activation=\"sigmoid\", kernel_initializer='glorot_uniform')(x)"
   ]
  },
  {
   "cell_type": "code",
   "execution_count": 79,
   "metadata": {
    "id": "h965XoLoLO5a"
   },
   "outputs": [],
   "source": [
    "model_2 = Model(inputs=inp, outputs=preds)\n",
    "model_2.compile(loss='binary_crossentropy',\n",
    "                  optimizer='adam',\n",
    "                  metrics=['accuracy'])"
   ]
  },
  {
   "cell_type": "code",
   "execution_count": 80,
   "metadata": {
    "id": "S_UNnc0ELQbL"
   },
   "outputs": [
    {
     "name": "stdout",
     "output_type": "stream",
     "text": [
      "Model: \"model_1\"\n",
      "_________________________________________________________________\n",
      " Layer (type)                Output Shape              Param #   \n",
      "=================================================================\n",
      " input_2 (InputLayer)        [(None, 200)]             0         \n",
      "                                                                 \n",
      " embeddings (Embedding)      (None, 200, 300)          44675400  \n",
      "                                                                 \n",
      " lstm_layer (LSTM)           (None, 200, 50)           70200     \n",
      "                                                                 \n",
      " conv1d (Conv1D)             (None, 200, 64)           9664      \n",
      "                                                                 \n",
      " max_pooling1d (MaxPooling1  (None, 66, 64)            0         \n",
      " D)                                                              \n",
      "                                                                 \n",
      " global_max_pooling1d_1 (Gl  (None, 64)                0         \n",
      " obalMaxPooling1D)                                               \n",
      "                                                                 \n",
      " batch_normalization (Batch  (None, 64)                256       \n",
      " Normalization)                                                  \n",
      "                                                                 \n",
      " dense_2 (Dense)             (None, 40)                2600      \n",
      "                                                                 \n",
      " dropout_2 (Dropout)         (None, 40)                0         \n",
      "                                                                 \n",
      " dense_3 (Dense)             (None, 30)                1230      \n",
      "                                                                 \n",
      " dropout_3 (Dropout)         (None, 30)                0         \n",
      "                                                                 \n",
      " dense_4 (Dense)             (None, 6)                 186       \n",
      "                                                                 \n",
      "=================================================================\n",
      "Total params: 44759536 (170.74 MB)\n",
      "Trainable params: 84008 (328.16 KB)\n",
      "Non-trainable params: 44675528 (170.42 MB)\n",
      "_________________________________________________________________\n"
     ]
    }
   ],
   "source": [
    "model_2.summary()"
   ]
  },
  {
   "cell_type": "code",
   "execution_count": 81,
   "metadata": {
    "id": "Bc-HX52zHNg9"
   },
   "outputs": [
    {
     "name": "stdout",
     "output_type": "stream",
     "text": [
      "Epoch 1/2\n",
      "3990/3990 [==============================] - 625s 156ms/step - loss: 0.0719 - accuracy: 0.8887 - val_loss: 0.0520 - val_accuracy: 0.9939\n",
      "Epoch 2/2\n",
      "3990/3990 [==============================] - 569s 143ms/step - loss: 0.0551 - accuracy: 0.9782 - val_loss: 0.0531 - val_accuracy: 0.9939\n"
     ]
    }
   ],
   "source": [
    "model_info_2=model_2.fit(x_train,y_train, epochs=2, batch_size=32,  validation_data=(x_val, y_val))"
   ]
  },
  {
   "cell_type": "markdown",
   "metadata": {
    "id": "kL2OV0YiB3sp"
   },
   "source": [
    "## Plotting Graphs"
   ]
  },
  {
   "cell_type": "markdown",
   "metadata": {
    "id": "oK9KghRBLlq9"
   },
   "source": [
    "### LSTM"
   ]
  },
  {
   "cell_type": "code",
   "execution_count": 82,
   "metadata": {
    "id": "3qKSCDX-KjSX"
   },
   "outputs": [
    {
     "data": {
      "image/png": "[encoded data removed]",
      "text/plain": [
       "<Figure size 432x288 with 1 Axes>"
      ]
     },
     "metadata": {},
     "output_type": "display_data"
    }
   ],
   "source": [
    "loss = model_info_1.history['loss']\n",
    "val_loss = model_info_1.history['val_loss']\n",
    "\n",
    "epochs = range(1, len(loss)+1)\n",
    "\n",
    "plt.plot(epochs, loss, label='Training loss')\n",
    "plt.plot(epochs, val_loss, label='Validation loss')\n",
    "plt.title('Training and Validation loss')\n",
    "plt.xlabel('Epochs')\n",
    "plt.ylabel('Loss')\n",
    "plt.legend()\n",
    "plt.show();"
   ]
  },
  {
   "cell_type": "code",
   "execution_count": 83,
   "metadata": {
    "id": "zio5y-3yRn-6"
   },
   "outputs": [
    {
     "data": {
      "image/png": "[encoded data removed]",
      "text/plain": [
       "<Figure size 432x288 with 1 Axes>"
      ]
     },
     "metadata": {},
     "output_type": "display_data"
    }
   ],
   "source": [
    "accuracy = model_info_1.history['accuracy']\n",
    "val_accuracy = model_info_1.history['val_accuracy']\n",
    "\n",
    "plt.plot(epochs, accuracy, label='Training accuracy')\n",
    "plt.plot(epochs, val_accuracy, label='Validation accuracy')\n",
    "plt.title('Training and validation accuracy')\n",
    "plt.ylabel('Accuracy')\n",
    "plt.xlabel('Epochs')\n",
    "plt.legend()\n",
    "plt.show();"
   ]
  },
  {
   "cell_type": "markdown",
   "metadata": {
    "id": "HKNnZW0TLoO_"
   },
   "source": [
    "### LSTM-CNN"
   ]
  },
  {
   "cell_type": "code",
   "execution_count": 84,
   "metadata": {
    "id": "jOrZB4k0LqQx"
   },
   "outputs": [
    {
     "data": {
      "image/png": "[encoded data removed]",
      "text/plain": [
       "<Figure size 432x288 with 1 Axes>"
      ]
     },
     "metadata": {},
     "output_type": "display_data"
    }
   ],
   "source": [
    "loss = model_info_2.history['loss']\n",
    "val_loss = model_info_2.history['val_loss']\n",
    "\n",
    "epochs = range(1, len(loss)+1)\n",
    "\n",
    "plt.plot(epochs, loss, label='Training loss')\n",
    "plt.plot(epochs, val_loss, label='Validation loss')\n",
    "plt.title('Training and Validation loss')\n",
    "plt.xlabel('Epochs')\n",
    "plt.ylabel('Loss')\n",
    "plt.legend()\n",
    "plt.show();"
   ]
  },
  {
   "cell_type": "code",
   "execution_count": 85,
   "metadata": {
    "id": "67M15ZndRt97"
   },
   "outputs": [
    {
     "data": {
      "image/png": "[encoded data removed]",
      "text/plain": [
       "<Figure size 432x288 with 1 Axes>"
      ]
     },
     "metadata": {},
     "output_type": "display_data"
    }
   ],
   "source": [
    "accuracy = model_info_2.history['accuracy']\n",
    "val_accuracy = model_info_2.history['val_accuracy']\n",
    "plt.plot(epochs, accuracy, label='Training accuracy')\n",
    "plt.plot(epochs, val_accuracy, label='Validation accuracy')\n",
    "plt.title('Training and validation accuracy')\n",
    "plt.ylabel('Accuracy')\n",
    "plt.xlabel('Epochs')\n",
    "plt.legend()\n",
    "plt.show();"
   ]
  },
  {
   "cell_type": "markdown",
   "metadata": {
    "id": "7wv1IdwZk_qG"
   },
   "source": [
    "# Saving the Model"
   ]
  },
  {
   "cell_type": "code",
   "execution_count": 91,
   "metadata": {
    "id": "eisFdjOUlBbM"
   },
   "outputs": [
    {
     "name": "stdout",
     "output_type": "stream",
     "text": [
      "INFO:tensorflow:Assets written to: model1\\assets\n"
     ]
    },
    {
     "name": "stderr",
     "output_type": "stream",
     "text": [
      "INFO:tensorflow:Assets written to: model1\\assets\n"
     ]
    }
   ],
   "source": [
    "model_1.save(filepath=\"model1\")"
   ]
  },
  {
   "cell_type": "code",
   "execution_count": 92,
   "metadata": {
    "id": "uNNf_Fj2MLgx"
   },
   "outputs": [
    {
     "name": "stdout",
     "output_type": "stream",
     "text": [
      "INFO:tensorflow:Assets written to: model2\\assets\n"
     ]
    },
    {
     "name": "stderr",
     "output_type": "stream",
     "text": [
      "INFO:tensorflow:Assets written to: model2\\assets\n"
     ]
    }
   ],
   "source": [
    "model_2.save(filepath=\"model2\")"
   ]
  },
  {
   "cell_type": "markdown",
   "metadata": {
    "id": "bXx4IOYn4_XB"
   },
   "source": [
    "# Loading Saved Model"
   ]
  },
  {
   "cell_type": "code",
   "execution_count": 93,
   "metadata": {
    "id": "huVktHqRMSGc"
   },
   "outputs": [],
   "source": [
    "loaded_model_1 = keras.models.load_model(filepath=\"model1\")"
   ]
  },
  {
   "cell_type": "code",
   "execution_count": 94,
   "metadata": {
    "id": "ulj64J7p4YKB"
   },
   "outputs": [],
   "source": [
    "loaded_model_2 = keras.models.load_model(filepath=\"model2\")"
   ]
  },
  {
   "cell_type": "markdown",
   "metadata": {
    "id": "kJJJs5txVS8S"
   },
   "source": [
    "# Generating the Output"
   ]
  },
  {
   "cell_type": "markdown",
   "metadata": {
    "id": "qBk_wYFWMY82"
   },
   "source": [
    "### LSTM"
   ]
  },
  {
   "cell_type": "code",
   "execution_count": 95,
   "metadata": {
    "id": "aUL3S8xiCYxU"
   },
   "outputs": [
    {
     "name": "stdout",
     "output_type": "stream",
     "text": [
      "153164/153164 [==============================] - 1889s 12ms/step\n"
     ]
    }
   ],
   "source": [
    "test_values_1 = loaded_model_1.predict([X_te], batch_size=1, verbose=1)"
   ]
  },
  {
   "cell_type": "code",
   "execution_count": 97,
   "metadata": {
    "id": "_FSvu4hpyU4r"
   },
   "outputs": [],
   "source": [
    "sample_submission = pd.read_csv('sample_submission.csv')\n",
    "test_values_1=pd.DataFrame(test_values_1,columns=['toxic', 'severe_toxic', 'obscene', 'threat', 'insult', 'identity_hate'])\n",
    "submission = pd.DataFrame(sample_submission[\"id\"])\n",
    "combined_submission=pd.concat([submission,test_values_1],axis=1)\n",
    "combined_submission.to_csv('sample_submission1.csv', index=False)"
   ]
  },
  {
   "cell_type": "markdown",
   "metadata": {
    "id": "6xw4kR9PMyVy"
   },
   "source": [
    "### LSTM-CNN"
   ]
  },
  {
   "cell_type": "code",
   "execution_count": 98,
   "metadata": {
    "id": "-Zmj2YixM0dH"
   },
   "outputs": [
    {
     "name": "stdout",
     "output_type": "stream",
     "text": [
      "153164/153164 [==============================] - 1930s 13ms/step\n"
     ]
    }
   ],
   "source": [
    "test_values_2 = loaded_model_2.predict([X_te], batch_size=1, verbose=1)"
   ]
  },
  {
   "cell_type": "code",
   "execution_count": 99,
   "metadata": {
    "id": "CsUf3_HxM0Yw"
   },
   "outputs": [],
   "source": [
    "sample_submission = pd.read_csv('sample_submission.csv')\n",
    "test_values_2=pd.DataFrame(test_values_2,columns=['toxic', 'severe_toxic', 'obscene', 'threat', 'insult', 'identity_hate'])\n",
    "submission = pd.DataFrame(sample_submission[\"id\"])\n",
    "combined_submission=pd.concat([submission,test_values_2],axis=1)\n",
    "combined_submission.to_csv('sample_submission2.csv', index=False)"
   ]
  },
  {
   "cell_type": "markdown",
   "metadata": {
    "id": "7HkAldq1IJcr"
   },
   "source": [
    "# Testing the Created Model"
   ]
  },
  {
   "cell_type": "code",
   "execution_count": 105,
   "metadata": {
    "id": "fPneHbuzIIxj"
   },
   "outputs": [],
   "source": [
    "def toxicity_level(string):\n",
    "    new_string = [string]\n",
    "    new_string = tokenizer.texts_to_sequences(new_string)\n",
    "    new_string = pad_sequences(new_string, maxlen=maxpadlen, padding='post')\n",
    "    \n",
    "    prediction = model_2.predict(new_string) #(Change to model_1 or model_2 depending on the preference of model type|| Model 1: LSTM, Model 2:LSTM-CNN)\n",
    "    \n",
    "    print(\"Toxicity levels for '{}':\".format(string))\n",
    "    print('Toxic:         {:.0%}'.format(prediction[0][0]))\n",
    "    print('Severe Toxic:  {:.0%}'.format(prediction[0][1]))\n",
    "    print('Obscene:       {:.0%}'.format(prediction[0][2]))\n",
    "    print('Threat:        {:.0%}'.format(prediction[0][3]))\n",
    "    print('Insult:        {:.0%}'.format(prediction[0][4]))\n",
    "    print('Identity Hate: {:.0%}'.format(prediction[0][5]))\n",
    "    print()\n",
    "    \n",
    "    return"
   ]
  },
  {
   "cell_type": "code",
   "execution_count": 106,
   "metadata": {
    "id": "wxWkAax7JLF1"
   },
   "outputs": [
    {
     "name": "stdout",
     "output_type": "stream",
     "text": [
      "1/1 [==============================] - 1s 1s/step\n",
      "Toxicity levels for 'go jump off a bridge jerk':\n",
      "Toxic:         81%\n",
      "Severe Toxic:  2%\n",
      "Obscene:       45%\n",
      "Threat:        0%\n",
      "Insult:        42%\n",
      "Identity Hate: 1%\n",
      "\n"
     ]
    }
   ],
   "source": [
    "toxicity_level('go jump off a bridge jerk')"
   ]
  },
  {
   "cell_type": "code",
   "execution_count": 107,
   "metadata": {
    "id": "QLGZpQ1KIpFG"
   },
   "outputs": [
    {
     "name": "stdout",
     "output_type": "stream",
     "text": [
      "1/1 [==============================] - 0s 42ms/step\n",
      "Toxicity levels for 'i will kill you':\n",
      "Toxic:         22%\n",
      "Severe Toxic:  0%\n",
      "Obscene:       6%\n",
      "Threat:        0%\n",
      "Insult:        7%\n",
      "Identity Hate: 1%\n",
      "\n"
     ]
    }
   ],
   "source": [
    "toxicity_level('i will kill you')"
   ]
  },
  {
   "cell_type": "code",
   "execution_count": 108,
   "metadata": {
    "id": "Be1lw-liIpfe"
   },
   "outputs": [
    {
     "name": "stdout",
     "output_type": "stream",
     "text": [
      "1/1 [==============================] - 0s 43ms/step\n",
      "Toxicity levels for 'have a nice day':\n",
      "Toxic:         1%\n",
      "Severe Toxic:  0%\n",
      "Obscene:       0%\n",
      "Threat:        0%\n",
      "Insult:        0%\n",
      "Identity Hate: 0%\n",
      "\n"
     ]
    }
   ],
   "source": [
    "toxicity_level('have a nice day')"
   ]
  },
  {
   "cell_type": "code",
   "execution_count": 109,
   "metadata": {
    "id": "HZ-_6XzxIxxT"
   },
   "outputs": [
    {
     "name": "stdout",
     "output_type": "stream",
     "text": [
      "1/1 [==============================] - 0s 31ms/step\n",
      "Toxicity levels for 'fuck ofF!!':\n",
      "Toxic:         100%\n",
      "Severe Toxic:  34%\n",
      "Obscene:       98%\n",
      "Threat:        2%\n",
      "Insult:        85%\n",
      "Identity Hate: 8%\n",
      "\n"
     ]
    }
   ],
   "source": [
    "toxicity_level('fuck ofF!!')"
   ]
  },
  {
   "cell_type": "code",
   "execution_count": 110,
   "metadata": {
    "id": "1s_5EQEFJD3G"
   },
   "outputs": [
    {
     "name": "stdout",
     "output_type": "stream",
     "text": [
      "1/1 [==============================] - 0s 29ms/step\n",
      "Toxicity levels for 'Hello, How are you?':\n",
      "Toxic:         1%\n",
      "Severe Toxic:  0%\n",
      "Obscene:       0%\n",
      "Threat:        0%\n",
      "Insult:        0%\n",
      "Identity Hate: 0%\n",
      "\n"
     ]
    }
   ],
   "source": [
    "toxicity_level('Hello, How are you?')"
   ]
  },
  {
   "cell_type": "code",
   "execution_count": 111,
   "metadata": {
    "id": "apOGOBU3uZxl"
   },
   "outputs": [
    {
     "name": "stdout",
     "output_type": "stream",
     "text": [
      "1/1 [==============================] - 0s 29ms/step\n",
      "Toxicity levels for 'get the fuck away from me @sshole!!':\n",
      "Toxic:         99%\n",
      "Severe Toxic:  14%\n",
      "Obscene:       94%\n",
      "Threat:        1%\n",
      "Insult:        78%\n",
      "Identity Hate: 3%\n",
      "\n"
     ]
    }
   ],
   "source": [
    "toxicity_level('get the fuck away from me @sshole!!')"
   ]
  },
  {
   "cell_type": "code",
   "execution_count": 117,
   "metadata": {},
   "outputs": [
    {
     "name": "stdout",
     "output_type": "stream",
     "text": [
      "1/1 [==============================] - 0s 41ms/step\n",
      "Toxicity levels for 'it took me a fucking lot of time love':\n",
      "Toxic:         3%\n",
      "Severe Toxic:  0%\n",
      "Obscene:       0%\n",
      "Threat:        0%\n",
      "Insult:        0%\n",
      "Identity Hate: 0%\n",
      "\n"
     ]
    }
   ],
   "source": [
    "toxicity_level('it took me a fucking lot of time love')"
   ]
  },
  {
   "cell_type": "code",
   "execution_count": null,
   "metadata": {},
   "outputs": [],
   "source": []
  }
 ],
 "metadata": {
  "accelerator": "GPU",
  "colab": {
   "collapsed_sections": [
    "wcGq1dF0iWju",
    "z8KPqb7_vC59",
    "D8hAcigh3Sh3",
    "NDWRHguXxOF_",
    "CeScalvZDEdD",
    "7wv1IdwZk_qG",
    "bXx4IOYn4_XB",
    "kJJJs5txVS8S",
    "7HkAldq1IJcr"
   ],
   "include_colab_link": true,
   "name": "NLP_LSTM.ipynb",
   "provenance": [],
   "toc_visible": true
  },
  "kernelspec": {
   "display_name": "Python 3 (ipykernel)",
   "language": "python",
   "name": "python3"
  },
  "language_info": {
   "codemirror_mode": {
    "name": "ipython",
    "version": 3
   },
   "file_extension": ".py",
   "mimetype": "text/x-python",
   "name": "python",
   "nbconvert_exporter": "python",
   "pygments_lexer": "ipython3",
   "version": "3.9.7"
  },
  "widgets": {
   "application/vnd.jupyter.widget-state+json": {
    "state": {
     "02f21ab3ed984f2696a183429d1d8f62": {
      "model_module": "@jupyter-widgets/controls",
      "model_module_version": "1.5.0",
      "model_name": "DescriptionStyleModel",
      "state": {
       "description_width": ""
      }
     },
     "03549e647f804e45bff37da814e9fd25": {
      "model_module": "@jupyter-widgets/controls",
      "model_module_version": "1.5.0",
      "model_name": "ProgressStyleModel",
      "state": {
       "description_width": ""
      }
     },
     "077386e452c749de9afe75dc054d97b5": {
      "model_module": "@jupyter-widgets/controls",
      "model_module_version": "1.5.0",
      "model_name": "FloatProgressModel",
      "state": {
       "bar_style": "success",
       "layout": "IPY_MODEL_311b493c84db465083e5864e668bf08f",
       "max": 159571,
       "style": "IPY_MODEL_c88fed40b74d4a878977343f3830a896",
       "value": 159571
      }
     },
     "0b3cc51ccd0047658e05113ce60a1918": {
      "model_module": "@jupyter-widgets/controls",
      "model_module_version": "1.5.0",
      "model_name": "HTMLModel",
      "state": {
       "layout": "IPY_MODEL_d7e9d63bbbc7427985fdce6d7617a33c",
       "style": "IPY_MODEL_02f21ab3ed984f2696a183429d1d8f62",
       "value": "100%"
      }
     },
     "0b61ace1a407426298edfd69370c65d8": {
      "model_module": "@jupyter-widgets/base",
      "model_module_version": "1.2.0",
      "model_name": "LayoutModel",
      "state": {}
     },
     "0c96ee9104e547619b15c7d79a9f8ac4": {
      "model_module": "@jupyter-widgets/controls",
      "model_module_version": "1.5.0",
      "model_name": "DescriptionStyleModel",
      "state": {
       "description_width": ""
      }
     },
     "1164fcba2825476386f7fec4c88b6510": {
      "model_module": "@jupyter-widgets/controls",
      "model_module_version": "1.5.0",
      "model_name": "HTMLModel",
      "state": {
       "layout": "IPY_MODEL_3f20b8f27519431eb62b1f242f2920a4",
       "style": "IPY_MODEL_5a72660fba0e45cab4220775d5e4ed8f",
       "value": "100%"
      }
     },
     "1594405d61d44de6bc9d38eb2493959b": {
      "model_module": "@jupyter-widgets/controls",
      "model_module_version": "1.5.0",
      "model_name": "HBoxModel",
      "state": {
       "children": [
        "IPY_MODEL_6d922595cb21494bb592dadb90269e49",
        "IPY_MODEL_44f6650209e54af7b463a62168a1c584",
        "IPY_MODEL_50db8275c1e14ba9bcbfa5933260a66e"
       ],
       "layout": "IPY_MODEL_79ffa5d93c6442069f9f8a3b7a8389fe"
      }
     },
     "1a4656ce35d24cefa7dabbbd2fa1536f": {
      "model_module": "@jupyter-widgets/controls",
      "model_module_version": "1.5.0",
      "model_name": "HTMLModel",
      "state": {
       "layout": "IPY_MODEL_45b1b9ffe8a1495ab851b5b074100dee",
       "style": "IPY_MODEL_dc92050e28314b98ae5076901d4404b6",
       "value": " 153164/153164 [01:24&lt;00:00, 1570.22it/s]"
      }
     },
     "1c4a49cf796347feba7f6ae6a81a6ed1": {
      "model_module": "@jupyter-widgets/base",
      "model_module_version": "1.2.0",
      "model_name": "LayoutModel",
      "state": {}
     },
     "1d6c3f2911df4147b637e45f24130b6e": {
      "model_module": "@jupyter-widgets/controls",
      "model_module_version": "1.5.0",
      "model_name": "DescriptionStyleModel",
      "state": {
       "description_width": ""
      }
     },
     "1eda06f3a0404cc696349d72cfdaf42e": {
      "model_module": "@jupyter-widgets/base",
      "model_module_version": "1.2.0",
      "model_name": "LayoutModel",
      "state": {}
     },
     "21b3423c884840a28720e39253a47fe4": {
      "model_module": "@jupyter-widgets/controls",
      "model_module_version": "1.5.0",
      "model_name": "DescriptionStyleModel",
      "state": {
       "description_width": ""
      }
     },
     "300b82d809eb4474814a290603c205ef": {
      "model_module": "@jupyter-widgets/controls",
      "model_module_version": "1.5.0",
      "model_name": "ProgressStyleModel",
      "state": {
       "description_width": ""
      }
     },
     "311b493c84db465083e5864e668bf08f": {
      "model_module": "@jupyter-widgets/base",
      "model_module_version": "1.2.0",
      "model_name": "LayoutModel",
      "state": {}
     },
     "3630f30f4c8947f385671c344a8cc00e": {
      "model_module": "@jupyter-widgets/base",
      "model_module_version": "1.2.0",
      "model_name": "LayoutModel",
      "state": {}
     },
     "3d9f02928317496c9f66b25eef8a9ba7": {
      "model_module": "@jupyter-widgets/controls",
      "model_module_version": "1.5.0",
      "model_name": "HTMLModel",
      "state": {
       "layout": "IPY_MODEL_8d7aee9984104a76b62bf8d44b404b16",
       "style": "IPY_MODEL_669ec36df2b8464e9a727eb5defbc46e",
       "value": " 159571/159571 [00:01&lt;00:00, 80279.91it/s]"
      }
     },
     "3e2cd80a83624106af0826b858aa1ba7": {
      "model_module": "@jupyter-widgets/controls",
      "model_module_version": "1.5.0",
      "model_name": "ProgressStyleModel",
      "state": {
       "description_width": ""
      }
     },
     "3f20b8f27519431eb62b1f242f2920a4": {
      "model_module": "@jupyter-widgets/base",
      "model_module_version": "1.2.0",
      "model_name": "LayoutModel",
      "state": {}
     },
     "44f6650209e54af7b463a62168a1c584": {
      "model_module": "@jupyter-widgets/controls",
      "model_module_version": "1.5.0",
      "model_name": "FloatProgressModel",
      "state": {
       "bar_style": "success",
       "layout": "IPY_MODEL_c2070216796b447ebcbd8e4662aad9e0",
       "max": 159571,
       "style": "IPY_MODEL_03549e647f804e45bff37da814e9fd25",
       "value": 159571
      }
     },
     "4571c29540a6426fb588537d3d90141a": {
      "model_module": "@jupyter-widgets/controls",
      "model_module_version": "1.5.0",
      "model_name": "FloatProgressModel",
      "state": {
       "bar_style": "success",
       "layout": "IPY_MODEL_b2b19a3318054f7aa5d0d15ec4b04a33",
       "max": 153164,
       "style": "IPY_MODEL_300b82d809eb4474814a290603c205ef",
       "value": 153164
      }
     },
     "45b1b9ffe8a1495ab851b5b074100dee": {
      "model_module": "@jupyter-widgets/base",
      "model_module_version": "1.2.0",
      "model_name": "LayoutModel",
      "state": {}
     },
     "468d265e917747008faa23ad63f30638": {
      "model_module": "@jupyter-widgets/controls",
      "model_module_version": "1.5.0",
      "model_name": "HTMLModel",
      "state": {
       "layout": "IPY_MODEL_5121a4c2ea0b4930afe21c66ffad0fb5",
       "style": "IPY_MODEL_aac33891665a4e79abf072375de1da95",
       "value": " 153164/153164 [00:01&lt;00:00, 81203.18it/s]"
      }
     },
     "4915c048d21449518ee755eff364731a": {
      "model_module": "@jupyter-widgets/controls",
      "model_module_version": "1.5.0",
      "model_name": "DescriptionStyleModel",
      "state": {
       "description_width": ""
      }
     },
     "4ee5ce735606414e9daaa499f9d9995a": {
      "model_module": "@jupyter-widgets/controls",
      "model_module_version": "1.5.0",
      "model_name": "ProgressStyleModel",
      "state": {
       "description_width": ""
      }
     },
     "50db8275c1e14ba9bcbfa5933260a66e": {
      "model_module": "@jupyter-widgets/controls",
      "model_module_version": "1.5.0",
      "model_name": "HTMLModel",
      "state": {
       "layout": "IPY_MODEL_1c4a49cf796347feba7f6ae6a81a6ed1",
       "style": "IPY_MODEL_0c96ee9104e547619b15c7d79a9f8ac4",
       "value": " 159571/159571 [00:02&lt;00:00, 59231.03it/s]"
      }
     },
     "5121a4c2ea0b4930afe21c66ffad0fb5": {
      "model_module": "@jupyter-widgets/base",
      "model_module_version": "1.2.0",
      "model_name": "LayoutModel",
      "state": {}
     },
     "5a72660fba0e45cab4220775d5e4ed8f": {
      "model_module": "@jupyter-widgets/controls",
      "model_module_version": "1.5.0",
      "model_name": "DescriptionStyleModel",
      "state": {
       "description_width": ""
      }
     },
     "669ec36df2b8464e9a727eb5defbc46e": {
      "model_module": "@jupyter-widgets/controls",
      "model_module_version": "1.5.0",
      "model_name": "DescriptionStyleModel",
      "state": {
       "description_width": ""
      }
     },
     "6d922595cb21494bb592dadb90269e49": {
      "model_module": "@jupyter-widgets/controls",
      "model_module_version": "1.5.0",
      "model_name": "HTMLModel",
      "state": {
       "layout": "IPY_MODEL_f3a05c898e4548789942b0ef9c3109c6",
       "style": "IPY_MODEL_4915c048d21449518ee755eff364731a",
       "value": "100%"
      }
     },
     "6ee652eb4d6a47b0be12fa7f1bddf1db": {
      "model_module": "@jupyter-widgets/base",
      "model_module_version": "1.2.0",
      "model_name": "LayoutModel",
      "state": {}
     },
     "7078fe268cd24bc49c9528ec54d1d5cb": {
      "model_module": "@jupyter-widgets/controls",
      "model_module_version": "1.5.0",
      "model_name": "DescriptionStyleModel",
      "state": {
       "description_width": ""
      }
     },
     "7156ac5affb84ad38c1520b43eec1d69": {
      "model_module": "@jupyter-widgets/controls",
      "model_module_version": "1.5.0",
      "model_name": "HTMLModel",
      "state": {
       "layout": "IPY_MODEL_1eda06f3a0404cc696349d72cfdaf42e",
       "style": "IPY_MODEL_7078fe268cd24bc49c9528ec54d1d5cb",
       "value": " 159571/159571 [01:36&lt;00:00, 1615.98it/s]"
      }
     },
     "79ffa5d93c6442069f9f8a3b7a8389fe": {
      "model_module": "@jupyter-widgets/base",
      "model_module_version": "1.2.0",
      "model_name": "LayoutModel",
      "state": {}
     },
     "8b8acaef067f42c1aedb4de3ffa12b07": {
      "model_module": "@jupyter-widgets/controls",
      "model_module_version": "1.5.0",
      "model_name": "HBoxModel",
      "state": {
       "children": [
        "IPY_MODEL_1164fcba2825476386f7fec4c88b6510",
        "IPY_MODEL_077386e452c749de9afe75dc054d97b5",
        "IPY_MODEL_3d9f02928317496c9f66b25eef8a9ba7"
       ],
       "layout": "IPY_MODEL_6ee652eb4d6a47b0be12fa7f1bddf1db"
      }
     },
     "8d7aee9984104a76b62bf8d44b404b16": {
      "model_module": "@jupyter-widgets/base",
      "model_module_version": "1.2.0",
      "model_name": "LayoutModel",
      "state": {}
     },
     "8f24dc9318ba48a58c4ea45dfb4e6afb": {
      "model_module": "@jupyter-widgets/base",
      "model_module_version": "1.2.0",
      "model_name": "LayoutModel",
      "state": {}
     },
     "9e90e4cf8c1940f189dcebe01f9ddc8d": {
      "model_module": "@jupyter-widgets/base",
      "model_module_version": "1.2.0",
      "model_name": "LayoutModel",
      "state": {}
     },
     "a0a8cd03600542229d0f52d19513172b": {
      "model_module": "@jupyter-widgets/controls",
      "model_module_version": "1.5.0",
      "model_name": "FloatProgressModel",
      "state": {
       "bar_style": "success",
       "layout": "IPY_MODEL_8f24dc9318ba48a58c4ea45dfb4e6afb",
       "max": 153164,
       "style": "IPY_MODEL_3e2cd80a83624106af0826b858aa1ba7",
       "value": 153164
      }
     },
     "a58cf7efd32a41da92fbf230546c94e7": {
      "model_module": "@jupyter-widgets/controls",
      "model_module_version": "1.5.0",
      "model_name": "FloatProgressModel",
      "state": {
       "bar_style": "success",
       "layout": "IPY_MODEL_ef0ab4b379a340f8b0bde97548ce5a0a",
       "max": 159571,
       "style": "IPY_MODEL_4ee5ce735606414e9daaa499f9d9995a",
       "value": 159571
      }
     },
     "a6488038d229498fb5b3c65f864fbda0": {
      "model_module": "@jupyter-widgets/controls",
      "model_module_version": "1.5.0",
      "model_name": "HTMLModel",
      "state": {
       "layout": "IPY_MODEL_3630f30f4c8947f385671c344a8cc00e",
       "style": "IPY_MODEL_21b3423c884840a28720e39253a47fe4",
       "value": "100%"
      }
     },
     "aac33891665a4e79abf072375de1da95": {
      "model_module": "@jupyter-widgets/controls",
      "model_module_version": "1.5.0",
      "model_name": "DescriptionStyleModel",
      "state": {
       "description_width": ""
      }
     },
     "ae0fa23f60ad43ecaa75a381c8d3c539": {
      "model_module": "@jupyter-widgets/controls",
      "model_module_version": "1.5.0",
      "model_name": "HBoxModel",
      "state": {
       "children": [
        "IPY_MODEL_a6488038d229498fb5b3c65f864fbda0",
        "IPY_MODEL_a0a8cd03600542229d0f52d19513172b",
        "IPY_MODEL_1a4656ce35d24cefa7dabbbd2fa1536f"
       ],
       "layout": "IPY_MODEL_0b61ace1a407426298edfd69370c65d8"
      }
     },
     "b2b19a3318054f7aa5d0d15ec4b04a33": {
      "model_module": "@jupyter-widgets/base",
      "model_module_version": "1.2.0",
      "model_name": "LayoutModel",
      "state": {}
     },
     "c2070216796b447ebcbd8e4662aad9e0": {
      "model_module": "@jupyter-widgets/base",
      "model_module_version": "1.2.0",
      "model_name": "LayoutModel",
      "state": {}
     },
     "c78aa02455ad4cf1802a7e4df764db0e": {
      "model_module": "@jupyter-widgets/base",
      "model_module_version": "1.2.0",
      "model_name": "LayoutModel",
      "state": {}
     },
     "c7f14d06624f4b46b56bd8894623d4fe": {
      "model_module": "@jupyter-widgets/controls",
      "model_module_version": "1.5.0",
      "model_name": "HBoxModel",
      "state": {
       "children": [
        "IPY_MODEL_0b3cc51ccd0047658e05113ce60a1918",
        "IPY_MODEL_a58cf7efd32a41da92fbf230546c94e7",
        "IPY_MODEL_7156ac5affb84ad38c1520b43eec1d69"
       ],
       "layout": "IPY_MODEL_cc5620643f9d4a7986ed2bf487b8e633"
      }
     },
     "c7f62c576e4048248ac514ec256efafc": {
      "model_module": "@jupyter-widgets/controls",
      "model_module_version": "1.5.0",
      "model_name": "HBoxModel",
      "state": {
       "children": [
        "IPY_MODEL_f61d433821a14fd0b6729469dfb89cf6",
        "IPY_MODEL_4571c29540a6426fb588537d3d90141a",
        "IPY_MODEL_468d265e917747008faa23ad63f30638"
       ],
       "layout": "IPY_MODEL_c78aa02455ad4cf1802a7e4df764db0e"
      }
     },
     "c88fed40b74d4a878977343f3830a896": {
      "model_module": "@jupyter-widgets/controls",
      "model_module_version": "1.5.0",
      "model_name": "ProgressStyleModel",
      "state": {
       "description_width": ""
      }
     },
     "cc5620643f9d4a7986ed2bf487b8e633": {
      "model_module": "@jupyter-widgets/base",
      "model_module_version": "1.2.0",
      "model_name": "LayoutModel",
      "state": {}
     },
     "d7e9d63bbbc7427985fdce6d7617a33c": {
      "model_module": "@jupyter-widgets/base",
      "model_module_version": "1.2.0",
      "model_name": "LayoutModel",
      "state": {}
     },
     "dc92050e28314b98ae5076901d4404b6": {
      "model_module": "@jupyter-widgets/controls",
      "model_module_version": "1.5.0",
      "model_name": "DescriptionStyleModel",
      "state": {
       "description_width": ""
      }
     },
     "ef0ab4b379a340f8b0bde97548ce5a0a": {
      "model_module": "@jupyter-widgets/base",
      "model_module_version": "1.2.0",
      "model_name": "LayoutModel",
      "state": {}
     },
     "f3a05c898e4548789942b0ef9c3109c6": {
      "model_module": "@jupyter-widgets/base",
      "model_module_version": "1.2.0",
      "model_name": "LayoutModel",
      "state": {}
     },
     "f61d433821a14fd0b6729469dfb89cf6": {
      "model_module": "@jupyter-widgets/controls",
      "model_module_version": "1.5.0",
      "model_name": "HTMLModel",
      "state": {
       "layout": "IPY_MODEL_9e90e4cf8c1940f189dcebe01f9ddc8d",
       "style": "IPY_MODEL_1d6c3f2911df4147b637e45f24130b6e",
       "value": "100%"
      }
     }
    },
    "version_major": 2,
    "version_minor": 0
   }
  }
 },
 "nbformat": 4,
 "nbformat_minor": 1
}
